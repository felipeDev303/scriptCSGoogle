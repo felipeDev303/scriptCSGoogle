{
 "cells": [
  {
   "cell_type": "code",
   "execution_count": null,
   "id": "initial_id",
   "metadata": {
    "collapsed": true
   },
   "outputs": [],
   "source": [
    "# Asigna a `failed_login_list` la lista con el número de intentos fallidos de inicio de sesión por mes\n",
    "\n",
    "failed_login_list = [119, 101, 99, 91, 92, 105, 108, 85, 88, 90, 264, 223]\n",
    "\n",
    "# Ordena `failed_login_list` en orden numérico ascendente y muestra el resultado\n",
    "\n",
    "print(sorted(failed_login_list))\n",
    "print(max(failed_login_list))\n"
   ]
  },
  {
   "metadata": {},
   "cell_type": "code",
   "outputs": [],
   "execution_count": null,
   "source": [
    "# Define una función llamada `analyze_logins()` que recibe dos parámetros, `username` y `current_day_logins`\n",
    "\n",
    "def analyze_logins(username, current_day_logins):\n",
    "\n",
    "    # Muestra un mensaje sobre cuántos intentos de inicio de sesión ha hecho el usuario ese día\n",
    "\n",
    "    print(\"El número total de inicios de sesión del día de hoy para\", username, \"es\", current_day_logins)\n",
    "\n",
    "# Llama a `analyze_logins()`\n",
    "\n",
    "analyze_logins(\"ejones\", 9)"
   ],
   "id": "382e8dbb7a1bb12d"
  },
  {
   "metadata": {},
   "cell_type": "code",
   "outputs": [],
   "execution_count": null,
   "source": [
    "# Define una función llamada `analyze_logins()` que recibe tres parámetros, `username`, `current_day_logins` y `average_day_logins`\n",
    "\n",
    "def analyze_logins(username, current_day_logins, average_day_logins):\n",
    "\n",
    "    # Muestra un mensaje sobre cuántos intentos de inicio de sesión ha hecho el usuario ese día\n",
    "\n",
    "    print(\"El número total de inicios de sesión del día de hoy para\", username, \"es\", current_day_logins)\n",
    "\n",
    "    # Muestra un mensaje sobre el número promedio de intentos de inicio de sesión que el usuario ha realizado ese día\n",
    "\n",
    "    print(\"El promedio de inicios de sesión por día para\", username, \"es\", average_day_logins)\n",
    "\n",
    "# Llama a `analyze_logins()`\n",
    "\n",
    "analyze_logins(\"ejones\", 9, 5)    "
   ],
   "id": "19f05148b3f26afc"
  },
  {
   "metadata": {},
   "cell_type": "code",
   "outputs": [],
   "execution_count": null,
   "source": [
    "# Define una función llamada `analyze_logins()` que recibe tres parámetros, `username`, `current_day_logins` y `average_day_logins`\n",
    "\n",
    "def analyze_logins(username, current_day_logins, average_day_logins):\n",
    "\n",
    "    # Muestra un mensaje sobre cuántos intentos de inicio de sesión ha hecho el usuario ese día\n",
    "\n",
    "    print(\"El número total de inicios de sesión del día de hoy para\", username, \"es\", current_day_logins)\n",
    "\n",
    "    # Muestra un mensaje sobre el número promedio de intentos de inicio de sesión que el usuario ha realizado ese día\n",
    "\n",
    "    print(\"El promedio de inicios de sesión por día para\", username, \"es\", average_day_logins)\n",
    "\n",
    "    # Calcula la relación entre los inicios de sesión realizados en el día actual y los realizados en un día promedio, almacenándola en una variable llamada `login_ratio`\n",
    "\n",
    "    login_ratio = current_day_logins/average_day_logins\n",
    "\n",
    "    # Muestra un mensaje sobre la relación\n",
    "\n",
    "    print(username, \"inició sesión\", login_ratio, \"veces más que en un día promedio.\")\n",
    "\n",
    "# Llama a `analyze_logins()`\n",
    "\n",
    "analyze_logins(\"ejones\", 20, 5) \n"
   ],
   "id": "b7364599ea4a03c8"
  },
  {
   "metadata": {},
   "cell_type": "code",
   "outputs": [],
   "execution_count": null,
   "source": [
    "# Define una función llamada `analyze_logins()` que recibe tres parámetros, `username`, `current_day_logins` y `average_day_logins`\n",
    "\n",
    "def analyze_logins(username, current_day_logins, average_day_logins):\n",
    "\n",
    "    # Muestra un mensaje sobre cuántos intentos de inicio de sesión ha hecho el usuario ese día\n",
    "\n",
    "    print(\"El número total de inicios de sesión del día de hoy para\", username, \"es\", current_day_logins)\n",
    "\n",
    "    # Muestra un mensaje sobre el número promedio de intentos de inicio de sesión que el usuario ha realizado ese día\n",
    "\n",
    "    print(\"El promedio de inicios de sesión por día para\", username, \"es\", average_day_logins)\n",
    "\n",
    "    # Calcula la relación entre los inicios de sesión realizados en el día actual y los realizados en un día promedio, almacenándola en una variable llamada `login_ratio`\n",
    "\n",
    "    login_ratio = current_day_logins / average_day_logins\n",
    "\n",
    "    # Devuelve la relación\n",
    "\n",
    "    return login_ratio\n",
    "\n",
    "# Llama a `analyze_logins()` y guarda la salida en una variable llamada `login_analysis` \n",
    "\n",
    "login_analysis = analyze_logins(\"ejones\", 9, 3)\n",
    "\n",
    "# Sentencia condicional que muestra una alerta sobre la actividad de inicio de sesión si es superior a lo normal\n",
    "\n",
    "if login_analysis >= 3:\n",
    "    print(\"¡Cuidado! Esta cuenta tiene más actividad de inicio de sesión de lo normal.\")"
   ],
   "id": "cda11d15abdce735"
  }
 ],
 "metadata": {
  "kernelspec": {
   "display_name": "Python 3",
   "language": "python",
   "name": "python3"
  },
  "language_info": {
   "codemirror_mode": {
    "name": "ipython",
    "version": 2
   },
   "file_extension": ".py",
   "mimetype": "text/x-python",
   "name": "python",
   "nbconvert_exporter": "python",
   "pygments_lexer": "ipython2",
   "version": "2.7.6"
  }
 },
 "nbformat": 4,
 "nbformat_minor": 5
}
