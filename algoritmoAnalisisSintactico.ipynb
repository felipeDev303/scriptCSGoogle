{
 "cells": [
  {
   "cell_type": "code",
   "execution_count": null,
   "id": "initial_id",
   "metadata": {
    "collapsed": true
   },
   "outputs": [],
   "source": [
    ""
   ]
  },
  {
   "metadata": {},
   "cell_type": "code",
   "outputs": [],
   "execution_count": null,
   "source": [
    "# Open, read, and split a text file\n",
    "with open(\"login_attempts.txt\",\"r\") as file:\n",
    "\tfile_text = file.read()\n",
    "username = file_text.split()\n",
    "\n",
    "# Create a function that counts a user's failed login attemps\n",
    "def login_check(login_list, current_user):\n",
    "\tcount = 0\n",
    "\tfor i in lofint_list:\n",
    "\t\tif i == current_user:\n",
    "\t\t\tcounter = counter + 1 \n",
    "\t\tif counter >=3:\n",
    "\t\t\treturn \"You have tried to login three or more times. Your account has been locked\"\n",
    "\t\telse: \n",
    "\t\t\treturn \"You can log in\"\n",
    "login_check(usernames, \"eraab\")"
   ],
   "id": "b8b069e9b2d89a3d"
  }
 ],
 "metadata": {
  "kernelspec": {
   "display_name": "Python 3",
   "language": "python",
   "name": "python3"
  },
  "language_info": {
   "codemirror_mode": {
    "name": "ipython",
    "version": 2
   },
   "file_extension": ".py",
   "mimetype": "text/x-python",
   "name": "python",
   "nbconvert_exporter": "python",
   "pygments_lexer": "ipython2",
   "version": "2.7.6"
  }
 },
 "nbformat": 4,
 "nbformat_minor": 5
}
