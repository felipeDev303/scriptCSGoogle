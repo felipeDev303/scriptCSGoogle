{
 "cells": [
  {
   "cell_type": "code",
   "id": "initial_id",
   "metadata": {
    "collapsed": true,
    "ExecuteTime": {
     "end_time": "2024-10-17T03:49:43.140909Z",
     "start_time": "2024-10-17T03:49:43.130203Z"
    }
   },
   "source": [
    "# Create a conditional\n",
    "operating_system = \"OS 2\"\n",
    "if operating_system == \"OS 2\":\n",
    "    print(\"Updates needed\")"
   ],
   "outputs": [
    {
     "name": "stdout",
     "output_type": "stream",
     "text": [
      "Updates needed\n"
     ]
    }
   ],
   "execution_count": 1
  },
  {
   "metadata": {
    "ExecuteTime": {
     "end_time": "2024-10-17T03:53:25.139781Z",
     "start_time": "2024-10-17T03:53:25.131291Z"
    }
   },
   "cell_type": "code",
   "source": [
    "# Create a conditional\n",
    "operating_system = \"OS 3\"\n",
    "if operating_system == \"OS 2\":\n",
    "    print(\"Updates needed\")\n",
    "else:\n",
    "    print(\"No updates needed\")"
   ],
   "id": "ccf2f10e4fc48e48",
   "outputs": [
    {
     "name": "stdout",
     "output_type": "stream",
     "text": [
      "No updates needed\n"
     ]
    }
   ],
   "execution_count": 2
  },
  {
   "metadata": {
    "ExecuteTime": {
     "end_time": "2024-10-17T03:57:41.123533Z",
     "start_time": "2024-10-17T03:57:41.111303Z"
    }
   },
   "cell_type": "code",
   "source": [
    "# Sentencias if\n",
    "\n",
    "status=600\n",
    "if status == 200:\n",
    "\n",
    "    print(\"OK\")\n",
    "\n",
    "elif status == 400:\n",
    "\n",
    "    print(\"Bad Request\")\n",
    "\n",
    "elif status == 500:\n",
    "\n",
    "    print(\"Internal Server Error\")\n",
    "\n",
    "else:\n",
    "\n",
    "    print(\"check other status\")"
   ],
   "id": "ed1364cb0adae399",
   "outputs": [
    {
     "name": "stdout",
     "output_type": "stream",
     "text": [
      "check other status\n"
     ]
    }
   ],
   "execution_count": 3
  },
  {
   "metadata": {},
   "cell_type": "code",
   "outputs": [],
   "execution_count": null,
   "source": "",
   "id": "44a689eab5c8a26b"
  }
 ],
 "metadata": {
  "kernelspec": {
   "display_name": "Python 3",
   "language": "python",
   "name": "python3"
  },
  "language_info": {
   "codemirror_mode": {
    "name": "ipython",
    "version": 2
   },
   "file_extension": ".py",
   "mimetype": "text/x-python",
   "name": "python",
   "nbconvert_exporter": "python",
   "pygments_lexer": "ipython2",
   "version": "2.7.6"
  }
 },
 "nbformat": 4,
 "nbformat_minor": 5
}
