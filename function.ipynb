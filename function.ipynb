{
 "cells": [
  {
   "cell_type": "code",
   "id": "initial_id",
   "metadata": {
    "collapsed": true,
    "ExecuteTime": {
     "end_time": "2024-10-19T05:52:18.016363Z",
     "start_time": "2024-10-19T05:52:17.992088Z"
    }
   },
   "source": [
    "# define una función\n",
    "def saludar():\n",
    "    print(\"Hola Python\")\n",
    "    \n",
    "# call a function\n",
    "saludar()"
   ],
   "outputs": [
    {
     "name": "stdout",
     "output_type": "stream",
     "text": [
      "Hola Python\n"
     ]
    }
   ],
   "execution_count": 1
  },
  {
   "metadata": {},
   "cell_type": "code",
   "outputs": [],
   "execution_count": null,
   "source": [
    "# Define una función llamada `alert()` \n",
    "\n",
    "def alert():\n",
    "    print(\"Posible problema de seguridad. Investiga más a fondo.\")\n",
    "    \n",
    "# llamar a la función\n",
    "\n",
    "alert()"
   ],
   "id": "9df899c8731d9fe3"
  }
 ],
 "metadata": {
  "kernelspec": {
   "display_name": "Python 3",
   "language": "python",
   "name": "python3"
  },
  "language_info": {
   "codemirror_mode": {
    "name": "ipython",
    "version": 2
   },
   "file_extension": ".py",
   "mimetype": "text/x-python",
   "name": "python",
   "nbconvert_exporter": "python",
   "pygments_lexer": "ipython2",
   "version": "2.7.6"
  }
 },
 "nbformat": 4,
 "nbformat_minor": 5
}
