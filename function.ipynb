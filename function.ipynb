{
 "cells": [
  {
   "cell_type": "code",
   "id": "initial_id",
   "metadata": {
    "collapsed": true,
    "ExecuteTime": {
     "end_time": "2024-10-19T05:52:18.016363Z",
     "start_time": "2024-10-19T05:52:17.992088Z"
    }
   },
   "source": [
    "# define una función\n",
    "def saludar():\n",
    "    print(\"Hola Python\")\n",
    "    \n",
    "# call a function\n",
    "saludar()"
   ],
   "outputs": [
    {
     "name": "stdout",
     "output_type": "stream",
     "text": [
      "Hola Python\n"
     ]
    }
   ],
   "execution_count": 1
  },
  {
   "metadata": {},
   "cell_type": "code",
   "outputs": [],
   "execution_count": null,
   "source": [
    "# Define una función llamada `alert()` \n",
    "\n",
    "def alert():\n",
    "    print(\"Posible problema de seguridad. Investiga más a fondo.\")\n",
    "    \n",
    "# llamar a la función\n",
    "\n",
    "alert()"
   ],
   "id": "9df899c8731d9fe3"
  },
  {
   "metadata": {},
   "cell_type": "code",
   "outputs": [],
   "execution_count": null,
   "source": [
    "# Define una función llamada `alert()`\n",
    "def alert():\n",
    "    for i in range(3):\n",
    "        print(\"Posible problema de seguridad. Investiga más a fondo.\")\n",
    "\n",
    "# Llama a la función `alert()`\n",
    "alert()"
   ],
   "id": "be6f89c30965f5c5"
  },
  {
   "metadata": {},
   "cell_type": "code",
   "outputs": [],
   "execution_count": null,
   "source": [
    "# Define una función llamada `list_to_string()`\n",
    "\n",
    "def list_to_string():\n",
    "\n",
    "  # Almacena la lista de nombres de usuario autorizados en una variable llamada `username_list`\n",
    "\n",
    "  username_list = [\"elarson\", \"bmoreno\", \"tshah\", \"sgilmore\", \"eraab\", \"gesparza\", \"alevitsk\", \"wjaffrey\"]\n",
    "\n",
    "  # Escribe un bucle for (para) que itere a través de los elementos de `username_list` y muestre cada elemento\n",
    "\n",
    "  for i in username_list:\n",
    "    print(i)\n",
    "\n",
    "# Llama a la función `list_to_string()`\n",
    "list_to_string()"
   ],
   "id": "2ddbc5f9ecc1387d"
  },
  {
   "metadata": {},
   "cell_type": "code",
   "outputs": [],
   "execution_count": null,
   "source": [
    "# Define una función llamada `list_to_string()`\n",
    "\n",
    "def list_to_string():\n",
    "\n",
    "  # Almacena la lista de nombres de usuario autorizados en una variable llamada `username_list`\n",
    "\n",
    "  username_list = [\"elarson\", \"bmoreno\", \"tshah\", \"sgilmore\", \"eraab\", \"gesparza\", \"alevitsk\", \"wjaffrey\"]\n",
    "\n",
    "  # Asigna una cadena vacía a `sum_variable`\n",
    "\n",
    "  sum_variable = \"\"\n",
    "\n",
    "  # Escribe un bucle for (para) que itere a través de los elementos de `username_list` y muestre cada elemento\n",
    "\n",
    "  for i in username_list:\n",
    "    sum_variable = sum_variable + i + \", \" \n",
    "\n",
    "  # Muestra el valor de `sum_variable`\n",
    "\n",
    "  print(sum_variable)\n",
    "\n",
    "# Llama a la función `list_to_string()`\n",
    "\n",
    "list_to_string()"
   ],
   "id": "f3284177ce0c327"
  }
 ],
 "metadata": {
  "kernelspec": {
   "display_name": "Python 3",
   "language": "python",
   "name": "python3"
  },
  "language_info": {
   "codemirror_mode": {
    "name": "ipython",
    "version": 2
   },
   "file_extension": ".py",
   "mimetype": "text/x-python",
   "name": "python",
   "nbconvert_exporter": "python",
   "pygments_lexer": "ipython2",
   "version": "2.7.6"
  }
 },
 "nbformat": 4,
 "nbformat_minor": 5
}
