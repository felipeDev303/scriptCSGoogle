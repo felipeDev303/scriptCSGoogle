{
 "cells": [
  {
   "cell_type": "code",
   "id": "initial_id",
   "metadata": {
    "collapsed": true,
    "ExecuteTime": {
     "end_time": "2024-10-25T12:54:37.931096Z",
     "start_time": "2024-10-25T12:54:37.916604Z"
    }
   },
   "source": [
    "# Convert an integer into a string\n",
    "new_string = str(123)\n",
    "print(new_string)\n",
    "print(type(new_string))\n",
    "len(new_string)"
   ],
   "outputs": [
    {
     "name": "stdout",
     "output_type": "stream",
     "text": [
      "123\n",
      "<class 'str'>\n"
     ]
    },
    {
     "data": {
      "text/plain": [
       "3"
      ]
     },
     "execution_count": 6,
     "metadata": {},
     "output_type": "execute_result"
    }
   ],
   "execution_count": 6
  },
  {
   "metadata": {
    "ExecuteTime": {
     "end_time": "2024-10-25T12:56:07.552732Z",
     "start_time": "2024-10-25T12:56:07.544550Z"
    }
   },
   "cell_type": "code",
   "source": [
    "# Print the length of a string \"Hello Python\"\n",
    "len(\"Hello Python\")"
   ],
   "id": "f5d99941897b95e9",
   "outputs": [
    {
     "name": "stdout",
     "output_type": "stream",
     "text": [
      "12\n"
     ]
    }
   ],
   "execution_count": 10
  },
  {
   "metadata": {
    "ExecuteTime": {
     "end_time": "2024-10-25T12:56:18.661234Z",
     "start_time": "2024-10-25T12:56:18.638279Z"
    }
   },
   "cell_type": "code",
   "source": [
    "# Print the length of a string \"Hello Python\"\n",
    "print(len(\"Hello Python\"))"
   ],
   "id": "ddeab464e2e78cbe",
   "outputs": [
    {
     "name": "stdout",
     "output_type": "stream",
     "text": [
      "12\n"
     ]
    }
   ],
   "execution_count": 11
  },
  {
   "metadata": {
    "ExecuteTime": {
     "end_time": "2024-10-25T13:12:13.516003Z",
     "start_time": "2024-10-25T13:12:13.507711Z"
    }
   },
   "cell_type": "code",
   "source": [
    "# Concatenate two strings\n",
    "print(\"Hello\" + \" World\")"
   ],
   "id": "61bb5a1b586fa1",
   "outputs": [
    {
     "name": "stdout",
     "output_type": "stream",
     "text": [
      "Hello World\n"
     ]
    }
   ],
   "execution_count": 13
  },
  {
   "metadata": {
    "ExecuteTime": {
     "end_time": "2024-10-25T13:14:09.797160Z",
     "start_time": "2024-10-25T13:14:09.787610Z"
    }
   },
   "cell_type": "code",
   "source": [
    "# Apply upper method to \"Hello\"\n",
    "print(\"hello\".upper())"
   ],
   "id": "e72df8489d2692a4",
   "outputs": [
    {
     "name": "stdout",
     "output_type": "stream",
     "text": [
      "HELLO\n"
     ]
    }
   ],
   "execution_count": 14
  },
  {
   "metadata": {
    "ExecuteTime": {
     "end_time": "2024-10-25T13:37:47.699533Z",
     "start_time": "2024-10-25T13:37:47.691293Z"
    }
   },
   "cell_type": "code",
   "source": [
    "# Extract a slice from string \n",
    "print((\"Hello\"[1:4]))"
   ],
   "id": "baf420f17f6d5c99",
   "outputs": [
    {
     "name": "stdout",
     "output_type": "stream",
     "text": [
      "ell\n"
     ]
    }
   ],
   "execution_count": 15
  },
  {
   "metadata": {
    "ExecuteTime": {
     "end_time": "2024-10-25T13:55:56.949887Z",
     "start_time": "2024-10-25T13:55:56.941803Z"
    }
   },
   "cell_type": "code",
   "source": [
    "# Use the index string method \n",
    "print((\"HELLO\".index(\"E\")))"
   ],
   "id": "77c06df46f017cf0",
   "outputs": [
    {
     "name": "stdout",
     "output_type": "stream",
     "text": [
      "1\n"
     ]
    }
   ],
   "execution_count": 16
  },
  {
   "metadata": {
    "ExecuteTime": {
     "end_time": "2024-10-25T13:58:02.338358Z",
     "start_time": "2024-10-25T13:58:02.330338Z"
    }
   },
   "cell_type": "code",
   "source": [
    "# Search for the character \"L\"\n",
    "print((\"HELLO\".index(\"L\")))"
   ],
   "id": "72aeeb48d7ec9228",
   "outputs": [
    {
     "name": "stdout",
     "output_type": "stream",
     "text": [
      "2\n"
     ]
    }
   ],
   "execution_count": 17
  },
  {
   "metadata": {
    "ExecuteTime": {
     "end_time": "2024-10-25T14:02:22.390531Z",
     "start_time": "2024-10-25T14:02:21.151244Z"
    }
   },
   "cell_type": "code",
   "source": [
    "my_string = \"Hello\"\n",
    "my_string[1] = \"A\"\n",
    "\n",
    "# TypeError: 'str' object does not support item assignment\n"
   ],
   "id": "d918c22d551c7a2a",
   "outputs": [
    {
     "ename": "TypeError",
     "evalue": "'str' object does not support item assignment",
     "output_type": "error",
     "traceback": [
      "\u001B[1;31m---------------------------------------------------------------------------\u001B[0m",
      "\u001B[1;31mTypeError\u001B[0m                                 Traceback (most recent call last)",
      "Cell \u001B[1;32mIn[18], line 2\u001B[0m\n\u001B[0;32m      1\u001B[0m my_string \u001B[38;5;241m=\u001B[39m \u001B[38;5;124m\"\u001B[39m\u001B[38;5;124mHello\u001B[39m\u001B[38;5;124m\"\u001B[39m\n\u001B[1;32m----> 2\u001B[0m my_string[\u001B[38;5;241m1\u001B[39m] \u001B[38;5;241m=\u001B[39m \u001B[38;5;124m\"\u001B[39m\u001B[38;5;124mA\u001B[39m\u001B[38;5;124m\"\u001B[39m\n",
      "\u001B[1;31mTypeError\u001B[0m: 'str' object does not support item assignment"
     ]
    }
   ],
   "execution_count": 18
  },
  {
   "metadata": {},
   "cell_type": "code",
   "outputs": [],
   "execution_count": null,
   "source": "",
   "id": "ddd30552a95fabf2"
  }
 ],
 "metadata": {
  "kernelspec": {
   "display_name": "Python 3",
   "language": "python",
   "name": "python3"
  },
  "language_info": {
   "codemirror_mode": {
    "name": "ipython",
    "version": 2
   },
   "file_extension": ".py",
   "mimetype": "text/x-python",
   "name": "python",
   "nbconvert_exporter": "python",
   "pygments_lexer": "ipython2",
   "version": "2.7.6"
  }
 },
 "nbformat": 4,
 "nbformat_minor": 5
}
