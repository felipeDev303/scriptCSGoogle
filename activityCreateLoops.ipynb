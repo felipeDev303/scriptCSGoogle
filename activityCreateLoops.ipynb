{
 "cells": [
  {
   "cell_type": "code",
   "execution_count": null,
   "id": "initial_id",
   "metadata": {
    "collapsed": true
   },
   "outputs": [],
   "source": [
    "# Sentencia iterativa usando `for`, `range()` y una variable de bucle `i`\n",
    "# Muestra “No se pudo establecer la conexión” tres veces\n",
    "\n",
    "for i in range(3):\n",
    "    print(\"No se pudo establecer la conexión.\")"
   ]
  },
  {
   "metadata": {},
   "cell_type": "code",
   "outputs": [],
   "execution_count": null,
   "source": [
    "# Crea una variable llamada `connection_attempts` que almacene el número de veces que el usuario ha intentado conectarse a la red\n",
    "\n",
    "connection_attempts = 5\n",
    "\n",
    "# Sentencia iterativa usando `for`, `range()`, una variable de bucle `i` y `connection_attempts`\n",
    "# Muestra “No se pudo establecer la conexión” tantas veces como se especifique en `connection_attempts`\n",
    "\n",
    "for i in range(connection_attempts):\n",
    "    print(\"No se pudo establecer la conexión.\")"
   ],
   "id": "bf4eecbd7e68b4c2"
  },
  {
   "metadata": {},
   "cell_type": "code",
   "outputs": [],
   "execution_count": null,
   "source": [
    "# Asigna a `connection_attempts` un valor inicial de 0, para llevar la cuenta de las veces que el usuario ha intentado conectarse a la red\n",
    "\n",
    "connection_attempts = 0\n",
    "\n",
    "# Sentencia iterativa usando `while` y `connection_attempts`\n",
    "# Muestra “No se pudo establecer la conexión” en cada iteración, hasta que connection_attempts alcance un número especificado\n",
    "\n",
    "while connection_attempts < 3:\n",
    "    print(\"No se pudo establecer la conexión\")\n",
    "\n",
    "    # Actualiza `connection_attempts` (increméntalo en 1 al final de cada iteración) \n",
    "    connection_attempts = connection_attempts + 1"
   ],
   "id": "736b521b722376b3"
  },
  {
   "metadata": {},
   "cell_type": "code",
   "outputs": [],
   "execution_count": null,
   "source": [
    "# Asigna `ip_addresses` a una lista de direcciones IP desde las que los usuarios han intentado iniciar sesión\n",
    "\n",
    "ip_addresses = [\"192.168.142.245\", \"192.168.109.50\", \"192.168.86.232\", \"192.168.131.147\",\n",
    "                \"192.168.205.12\", \"192.168.200.48\"]\n",
    "\n",
    "# Bucle `for` que muestra los elementos de `ip_addresses` de uno en uno\n",
    "\n",
    "for i in ip_addresses:\n",
    "    print(ip_addresses)"
   ],
   "id": "46e396cdb572b8cd"
  },
  {
   "metadata": {},
   "cell_type": "code",
   "outputs": [],
   "execution_count": null,
   "source": [
    "# Asigna `allow_list` a una lista de direcciones IP a las que se les permite iniciar sesión\n",
    "\n",
    "allow_list = [\"192.168.243.140\", \"192.168.205.12\", \"192.168.151.162\", \"192.168.178.71\", \n",
    "              \"192.168.86.232\", \"192.168.3.24\", \"192.168.170.243\", \"192.168.119.173\"]\n",
    "\n",
    "# Asigna `ip_addresses` a una lista de direcciones IP desde las que los usuarios han intentado iniciar sesión\n",
    "\n",
    "ip_addresses = [\"192.168.142.245\", \"192.168.109.50\", \"192.168.86.232\", \"192.168.131.147\",\n",
    "                \"192.168.205.12\", \"192.168.200.48\"]\n",
    "\n",
    "# Para cada dirección IP de la lista de direcciones IP desde las que los usuarios han intentado iniciar sesión, \n",
    "# Si está entre las direcciones permitidas, muestra “Se permite la dirección IP”\n",
    "# De lo contrario, muestra “No se permite la dirección IP”\n",
    "\n",
    "for i in ip_addresses:\n",
    "\tif i in allow_list:\n",
    "\t\tprint(\"Se permite la dirección IP\")\n",
    "\telse:\n",
    "\t\tprint(\"No se permite la dirección IP\")"
   ],
   "id": "d8d46e4c492b1c15"
  },
  {
   "metadata": {},
   "cell_type": "code",
   "outputs": [],
   "execution_count": null,
   "source": [
    "# Asigna `allow_list` a una lista de direcciones IP a las que se les permite iniciar sesión\n",
    "\n",
    "allow_list = [\"192.168.243.140\", \"192.168.205.12\", \"192.168.151.162\", \"192.168.178.71\", \n",
    "              \"192.168.86.232\", \"192.168.3.24\", \"192.168.170.243\", \"192.168.119.173\"]\n",
    "\n",
    "# Asigna `ip_addresses` a una lista de direcciones IP desde las que los usuarios han intentado iniciar sesión\n",
    "\n",
    "ip_addresses = [\"192.168.142.245\", \"192.168.109.50\", \"192.168.86.232\", \"192.168.131.147\",\n",
    "                \"192.168.205.12\", \"192.168.200.48\"]\n",
    "\n",
    "# Para cada dirección IP de la lista de direcciones IP desde las que los usuarios han intentado iniciar sesión, \n",
    "# Si está entre las direcciones permitidas, muestra “Se permite la dirección IP”\n",
    "# De lo contrario, muestra “No se permite la dirección IP”\n",
    "               \n",
    "for i in ip_addresses:\n",
    "\tif i in allow_list:\n",
    "\t\tprint(\"Se permite la dirección IP\")\n",
    "\telse:\n",
    "\t\tprint(\"“No se permite la dirección IP. Se requiere una investigación adicional de la actividad de inicio de sesión\")\n",
    "\t\tbreak"
   ],
   "id": "ed7efe29b8f22e73"
  },
  {
   "metadata": {},
   "cell_type": "code",
   "outputs": [],
   "execution_count": null,
   "source": [
    "# Asigna a la variable de bucle `i` un valor inicial de 5000\n",
    "\n",
    "i = 5000\n",
    "\n",
    "# Bucle while que genera ID de empleados únicos para el departamento de ventas iterando a través de los números\n",
    "# y muestra cada ID creado\n",
    "\n",
    "while i <= 5150: \n",
    "    print(i)\n",
    "    i=i+5"
   ],
   "id": "7c7ee59aeda9a5fb"
  },
  {
   "metadata": {},
   "cell_type": "code",
   "outputs": [],
   "execution_count": null,
   "source": [
    "# Asigna a la variable de bucle `i` un valor inicial de 5000\n",
    "\n",
    "i = 5000\n",
    "\n",
    "# Bucle while que genera ID de empleados únicos para el departamento de ventas iterando a través de los números\n",
    "# y muestra cada ID creado\n",
    "# Este bucle muestra “Solo quedan 10 ID de empleado válidos” una vez que `i` alcanza 5100\n",
    "\n",
    "while i <= 5150: \n",
    "    print(i)\n",
    "    if i == 5100:\n",
    "        print(\"Solo quedan 10 ID de empleado válidos\")\n",
    "    i = i + 5"
   ],
   "id": "66810c6ce8612979"
  }
 ],
 "metadata": {
  "kernelspec": {
   "display_name": "Python 3",
   "language": "python",
   "name": "python3"
  },
  "language_info": {
   "codemirror_mode": {
    "name": "ipython",
    "version": 2
   },
   "file_extension": ".py",
   "mimetype": "text/x-python",
   "name": "python",
   "nbconvert_exporter": "python",
   "pygments_lexer": "ipython2",
   "version": "2.7.6"
  }
 },
 "nbformat": 4,
 "nbformat_minor": 5
}
