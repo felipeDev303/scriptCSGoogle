{
 "cells": [
  {
   "cell_type": "code",
   "id": "initial_id",
   "metadata": {
    "collapsed": true,
    "ExecuteTime": {
     "end_time": "2024-11-01T03:46:16.124579Z",
     "start_time": "2024-11-01T03:46:16.098848Z"
    }
   },
   "source": [
    "# Bucle for que itera en un rango de números y muestra un mensaje en cada iteración\n",
    "# SyntaxError: expected ':'\n",
    "\n",
    "for i in range(10):\n",
    "    print(\"No se puede establecer conexión\")"
   ],
   "outputs": [
    {
     "name": "stdout",
     "output_type": "stream",
     "text": [
      "No se puede establecer conexión\n",
      "No se puede establecer conexión\n",
      "No se puede establecer conexión\n",
      "No se puede establecer conexión\n",
      "No se puede establecer conexión\n",
      "No se puede establecer conexión\n",
      "No se puede establecer conexión\n",
      "No se puede establecer conexión\n",
      "No se puede establecer conexión\n",
      "No se puede establecer conexión\n"
     ]
    }
   ],
   "execution_count": 2
  },
  {
   "metadata": {
    "ExecuteTime": {
     "end_time": "2024-11-01T03:47:10.524069Z",
     "start_time": "2024-11-01T03:47:10.511402Z"
    }
   },
   "cell_type": "code",
   "source": [
    "# Asigna `usernames_list` a una lista de nombres de usuario\n",
    "# SyntaxError: unterminated string literal (detected at line 3)\n",
    "\n",
    "usernames_list = [\"djames\", \"jpark\", \"tbailey\", \"zdutchma\", \"esmith\", \"srobinso\", \"dcoleman\", \"fbautist\"]\n",
    "\n",
    "# Muestra `usernames_list`\n",
    "\n",
    "print(usernames_list)"
   ],
   "id": "4930c07c3db44890",
   "outputs": [
    {
     "name": "stdout",
     "output_type": "stream",
     "text": [
      "['djames', 'jpark', 'tbailey', 'zdutchma', 'esmith', 'srobinso', 'dcoleman', 'fbautist']\n"
     ]
    }
   ],
   "execution_count": 7
  },
  {
   "metadata": {
    "ExecuteTime": {
     "end_time": "2024-11-01T03:48:43.634717Z",
     "start_time": "2024-11-01T03:48:43.618555Z"
    }
   },
   "cell_type": "code",
   "source": [
    "# Muestra un mensaje en mayúsculas \n",
    "#SyntaxError: incomplete input\n",
    "\n",
    "print(\"actualización necesaria\".upper())"
   ],
   "id": "ac5146689eb993c0",
   "outputs": [
    {
     "name": "stdout",
     "output_type": "stream",
     "text": [
      "ACTUALIZACIÓN NECESARIA\n"
     ]
    }
   ],
   "execution_count": 9
  },
  {
   "metadata": {
    "ExecuteTime": {
     "end_time": "2024-11-01T03:50:15.280748Z",
     "start_time": "2024-11-01T03:50:15.251875Z"
    }
   },
   "cell_type": "code",
   "source": [
    "# Asigna `usernames_list` a una lista de nombres de usuario que representan usuarios aprobados\n",
    "#SyntaxError: invalid syntax. Maybe you meant '==' or ':=' instead of '='?\n",
    "# IndentationError: expected an indented block after 'if' statement on line 17\n",
    "# NameError: name 'username_list' is not defined\n",
    "\n",
    "usernames_list = [\"djames\", \"jpark\", \"tbailey\", \"zdutchma\", \"esmith\", \"srobinso\", \"dcoleman\", \"fbautist\"]\n",
    "\n",
    "# Asigna `username` a un nombre de usuario específico \n",
    "\n",
    "username = \"esmith\"\n",
    "\n",
    "# Bucle for que itera sobre los elementos de `usernames_list` y determina si cada elemento corresponde a un usuario aprobado\n",
    "\n",
    "for name in usernames_list:\n",
    "\n",
    "    # Comprueba si `name` coincide con `username` \n",
    "    # Si coincide, muestra un mensaje en consecuencia \n",
    "\n",
    "    if name == username:\n",
    "        print(\"El usuario es un usuario aprobado\")"
   ],
   "id": "1ccf391822bb46af",
   "outputs": [
    {
     "name": "stdout",
     "output_type": "stream",
     "text": [
      "El usuario es un usuario aprobado\n"
     ]
    }
   ],
   "execution_count": 13
  },
  {
   "metadata": {
    "ExecuteTime": {
     "end_time": "2024-11-01T03:51:45.967018Z",
     "start_time": "2024-11-01T03:51:45.942452Z"
    }
   },
   "cell_type": "code",
   "source": [
    "# Asigna `usernames_list` a una lista de nombres de usuario\n",
    "# IndexError: list index out of range\n",
    "\n",
    "usernames_list = [\"elarson\", \"bmoreno\", \"tshah\", \"sgilmore\", \"eraab\"]\n",
    "\n",
    "# Asigna `username` a un nombre de usuario específico\n",
    "\n",
    "username = \"eraab\"\n",
    "\n",
    "# Determina si `username` es el nombre de usuario final en `usernames_list` \n",
    "# Si lo es, muestra un mensaje en consecuencia \n",
    "\n",
    "if username == usernames_list[4]:\n",
    "    print(\"Este nombre de usuario es el último de la lista: \" + usernames_list[4])"
   ],
   "id": "187dd1b1a161fccc",
   "outputs": [
    {
     "name": "stdout",
     "output_type": "stream",
     "text": [
      "Este nombre de usuario es el último de la lista: eraab\n"
     ]
    }
   ],
   "execution_count": 16
  },
  {
   "metadata": {
    "ExecuteTime": {
     "end_time": "2024-11-01T04:00:11.473535Z",
     "start_time": "2024-11-01T04:00:11.407497Z"
    }
   },
   "cell_type": "code",
   "source": [
    "# Asigna a `import_file` el nombre del archivo de texto\n",
    "# SyntaxError: expected ':'\n",
    "# FileNotFoundError: [Errno 2] No such file or directory: 'allow_list.txt'\n",
    "\n",
    "import_file = \"allow_list.txt\"\n",
    "\n",
    "# Asigna a `remove_list` una lista de direcciones IP a las que ya no se les permite acceder a la red \n",
    "\n",
    "remove_list = [\"192.168.97.225\", \"192.168.158.170\", \"192.168.201.40\", \"192.168.58.57\"]\n",
    "\n",
    "# Sentencia with que lee el archivo de texto y almacena su contenido como una lista en `ip_addresses` \n",
    "\n",
    "with open(import_file, \"r\") as file:\n",
    "    ip_addresses = file.read()\n",
    "\n",
    "# Convierte `ip_addresses` de una cadena a una lista\n",
    "\n",
    "ip_addresses = ip_addresses.split()\n",
    "\n",
    "# Bucle for que itera sobre los elementos en `ip_addresses` \n",
    "# y elimina cada elemento que corresponde a una dirección IP a la que ya no se le permite el acceso\n",
    "\n",
    "for element in ip_addresses:\n",
    "    if element in remove_list:\n",
    "        ip_addresses.remove(element)\n",
    "\n",
    "# Muestra `ip_addresses` después del proceso de eliminación\n",
    "\n",
    "print(ip_addresses)"
   ],
   "id": "ace536296f9496c1",
   "outputs": [
    {
     "ename": "FileNotFoundError",
     "evalue": "[Errno 2] No such file or directory: 'allow_list.txt'",
     "output_type": "error",
     "traceback": [
      "\u001B[1;31m---------------------------------------------------------------------------\u001B[0m",
      "\u001B[1;31mFileNotFoundError\u001B[0m                         Traceback (most recent call last)",
      "Cell \u001B[1;32mIn[21], line 13\u001B[0m\n\u001B[0;32m      9\u001B[0m remove_list \u001B[38;5;241m=\u001B[39m [\u001B[38;5;124m\"\u001B[39m\u001B[38;5;124m192.168.97.225\u001B[39m\u001B[38;5;124m\"\u001B[39m, \u001B[38;5;124m\"\u001B[39m\u001B[38;5;124m192.168.158.170\u001B[39m\u001B[38;5;124m\"\u001B[39m, \u001B[38;5;124m\"\u001B[39m\u001B[38;5;124m192.168.201.40\u001B[39m\u001B[38;5;124m\"\u001B[39m, \u001B[38;5;124m\"\u001B[39m\u001B[38;5;124m192.168.58.57\u001B[39m\u001B[38;5;124m\"\u001B[39m]\n\u001B[0;32m     11\u001B[0m \u001B[38;5;66;03m# Sentencia with que lee el archivo de texto y almacena su contenido como una lista en `ip_addresses` \u001B[39;00m\n\u001B[1;32m---> 13\u001B[0m \u001B[38;5;28;01mwith\u001B[39;00m \u001B[38;5;28mopen\u001B[39m(import_file, \u001B[38;5;124m\"\u001B[39m\u001B[38;5;124mr\u001B[39m\u001B[38;5;124m\"\u001B[39m) \u001B[38;5;28;01mas\u001B[39;00m file:\n\u001B[0;32m     14\u001B[0m     ip_addresses \u001B[38;5;241m=\u001B[39m file\u001B[38;5;241m.\u001B[39mread()\n\u001B[0;32m     16\u001B[0m \u001B[38;5;66;03m# Convierte `ip_addresses` de una cadena a una lista\u001B[39;00m\n",
      "File \u001B[1;32m~\\miniconda3\\Lib\\site-packages\\IPython\\core\\interactiveshell.py:324\u001B[0m, in \u001B[0;36m_modified_open\u001B[1;34m(file, *args, **kwargs)\u001B[0m\n\u001B[0;32m    317\u001B[0m \u001B[38;5;28;01mif\u001B[39;00m file \u001B[38;5;129;01min\u001B[39;00m {\u001B[38;5;241m0\u001B[39m, \u001B[38;5;241m1\u001B[39m, \u001B[38;5;241m2\u001B[39m}:\n\u001B[0;32m    318\u001B[0m     \u001B[38;5;28;01mraise\u001B[39;00m \u001B[38;5;167;01mValueError\u001B[39;00m(\n\u001B[0;32m    319\u001B[0m         \u001B[38;5;124mf\u001B[39m\u001B[38;5;124m\"\u001B[39m\u001B[38;5;124mIPython won\u001B[39m\u001B[38;5;124m'\u001B[39m\u001B[38;5;124mt let you open fd=\u001B[39m\u001B[38;5;132;01m{\u001B[39;00mfile\u001B[38;5;132;01m}\u001B[39;00m\u001B[38;5;124m by default \u001B[39m\u001B[38;5;124m\"\u001B[39m\n\u001B[0;32m    320\u001B[0m         \u001B[38;5;124m\"\u001B[39m\u001B[38;5;124mas it is likely to crash IPython. If you know what you are doing, \u001B[39m\u001B[38;5;124m\"\u001B[39m\n\u001B[0;32m    321\u001B[0m         \u001B[38;5;124m\"\u001B[39m\u001B[38;5;124myou can use builtins\u001B[39m\u001B[38;5;124m'\u001B[39m\u001B[38;5;124m open.\u001B[39m\u001B[38;5;124m\"\u001B[39m\n\u001B[0;32m    322\u001B[0m     )\n\u001B[1;32m--> 324\u001B[0m \u001B[38;5;28;01mreturn\u001B[39;00m io_open(file, \u001B[38;5;241m*\u001B[39margs, \u001B[38;5;241m*\u001B[39m\u001B[38;5;241m*\u001B[39mkwargs)\n",
      "\u001B[1;31mFileNotFoundError\u001B[0m: [Errno 2] No such file or directory: 'allow_list.txt'"
     ]
    }
   ],
   "execution_count": 21
  },
  {
   "metadata": {
    "ExecuteTime": {
     "end_time": "2024-11-01T04:02:09.532197Z",
     "start_time": "2024-11-01T04:02:09.518552Z"
    }
   },
   "cell_type": "code",
   "source": [
    "# Asigna a `system` un sistema operativo específico como una cadena\n",
    "\n",
    "system = \"OS 2\"\n",
    "\n",
    "# Asigna a `patch_schedule` una lista de fechas de parches en orden de sistema operativo\n",
    "\n",
    "patch_schedule = [\"1 de marzo\", \"1 de abril\", \"1 de mayo\"]\n",
    "\n",
    "# Sentencia condicional que comprueba qué sistema operativo está almacenado en `system` y muestra un mensaje donde figura la fecha del parche correspondiente \n",
    "\n",
    "if system == \"OS 1\":\n",
    "    print(\"Fecha del parche:\", patch_schedule[0])\n",
    "\n",
    "elif system == \"OS 2\":\n",
    "    print(\"Fecha del parche:\", patch_schedule[1])\n",
    "\n",
    "elif system == \"OS 3\":\n",
    "    print(\"Fecha del parche:\", patch_schedule[2])"
   ],
   "id": "c58659fc4b6eff34",
   "outputs": [
    {
     "name": "stdout",
     "output_type": "stream",
     "text": [
      "Fecha del parche: 1 de abril\n"
     ]
    }
   ],
   "execution_count": 23
  },
  {
   "metadata": {},
   "cell_type": "code",
   "outputs": [],
   "execution_count": null,
   "source": "",
   "id": "28fb45f4371abe8a"
  }
 ],
 "metadata": {
  "kernelspec": {
   "display_name": "Python 3",
   "language": "python",
   "name": "python3"
  },
  "language_info": {
   "codemirror_mode": {
    "name": "ipython",
    "version": 2
   },
   "file_extension": ".py",
   "mimetype": "text/x-python",
   "name": "python",
   "nbconvert_exporter": "python",
   "pygments_lexer": "ipython2",
   "version": "2.7.6"
  }
 },
 "nbformat": 4,
 "nbformat_minor": 5
}
