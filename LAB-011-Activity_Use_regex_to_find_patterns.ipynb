{
 "cells": [
  {
   "cell_type": "code",
   "id": "initial_id",
   "metadata": {
    "collapsed": true,
    "ExecuteTime": {
     "end_time": "2024-10-29T21:39:13.542676Z",
     "start_time": "2024-10-29T21:39:13.525633Z"
    }
   },
   "source": [
    "# Importa la biblioteca `re` en Python\n",
    "import re"
   ],
   "outputs": [],
   "execution_count": 1
  },
  {
   "metadata": {},
   "cell_type": "code",
   "outputs": [],
   "execution_count": null,
   "source": [
    "# Asigna a `devices` una cadena que contiene las ID de dispositivo, cada una de ellas representada por caracteres alfanuméricos\n",
    "\n",
    "devices = \"r262c36 67bv8fy 41j1u2e r151dm4 1270t3o 42dr56i r15xk9h 2j33krk 253be78 ac742a1 r15u9q5 zh86b2l ii286fq 9x482kt 6oa6m6u x3463ac i4l56nq g07h55q 081qc9t r159r1u\"\n",
    "\n",
    "# Muestra el contenido de `devices`\n",
    "\n",
    "print(devices)"
   ],
   "id": "728d954c20b9b5c0"
  },
  {
   "metadata": {
    "ExecuteTime": {
     "end_time": "2024-10-30T04:37:30.110437Z",
     "start_time": "2024-10-30T04:37:30.086747Z"
    }
   },
   "cell_type": "code",
   "source": [
    "# Asigna a `devices` una cadena que contiene las ID de dispositivo, cada una de ellas representada por caracteres alfanuméricos\n",
    "\n",
    "devices = \"r262c36 67bv8fy 41j1u2e r151dm4 1270t3o 42dr56i r15xk9h 2j33krk 253be78 ac742a1 r15u9q5 zh86b2l ii286fq 9x482kt 6oa6m6u x3463ac i4l56nq g07h55q 081qc9t r159r1u\"\n",
    "\n",
    "# Asigna `target_pattern` a un patrón de expresión regular para encontrar las ID de dispositivo que comiencen con \"r15\"\n",
    "\n",
    "target_pattern = \"r15\\w+\""
   ],
   "id": "68e7ec194ec26109",
   "outputs": [
    {
     "name": "stdout",
     "output_type": "stream",
     "text": [
      "['r151dm4', 'r15xk9h', 'r15u9q5', 'r159r1u']\n"
     ]
    },
    {
     "name": "stderr",
     "output_type": "stream",
     "text": [
      "<>:7: SyntaxWarning: invalid escape sequence '\\w'\n",
      "<>:7: SyntaxWarning: invalid escape sequence '\\w'\n",
      "C:\\Users\\Usuario\\AppData\\Local\\Temp\\ipykernel_4372\\1490374714.py:7: SyntaxWarning: invalid escape sequence '\\w'\n",
      "  target_pattern = \"r15\\w+\"\n"
     ]
    }
   ],
   "execution_count": 11
  },
  {
   "metadata": {},
   "cell_type": "code",
   "outputs": [],
   "execution_count": null,
   "source": [
    "# Asigna a `devices` una cadena que contiene las ID de dispositivo, cada una de ellas representada por caracteres alfanuméricos\n",
    "\n",
    "devices = \"r262c36 67bv8fy 41j1u2e r151dm4 1270t3o 42dr56i r15xk9h 2j33krk 253be78 ac742a1 r15u9q5 zh86b2l ii286fq 9x482kt 6oa6m6u x3463ac i4l56nq g07h55q 081qc9t r159r1u\"\n",
    "\n",
    "# Asigna `target_pattern` a un patrón de expresión regular para encontrar las ID de dispositivo que comiencen con \"r15\"\n",
    "\n",
    "target_pattern = \"r15\\w+\"\n",
    "\n",
    "# Utiliza `re.findall()` para encontrar las ID de dispositivo que comienzan con \"r15\" y muestra los resultados\n",
    "\n",
    "print(re.findall(target_pattern, devices))"
   ],
   "id": "a21c92dcfc2729cf"
  },
  {
   "metadata": {},
   "cell_type": "code",
   "outputs": [],
   "execution_count": null,
   "source": [
    "# Asigna a `log_file` una cadena que contiene el nombre de usuario, la fecha, la hora de inicio de sesión y la dirección IP para una serie de intentos de inicio de sesión \n",
    "\n",
    "log_file = \"eraab 2022-05-10 6:03:41 192.168.152.148 \\niuduike 2022-05-09 6:46:40 192.168.22.115 \\nsmartell 2022-05-09 19:30:32 192.168.190.178 \\narutley 2022-05-12 17:00:59 1923.1689.3.24 \\nrjensen 2022-05-11 0:59:26 192.168.213.128 \\naestrada 2022-05-09 19:28:12 1924.1680.27.57 \\nasundara 2022-05-11 18:38:07 192.168.96.200 \\ndkot 2022-05-12 10:52:00 1921.168.1283.75 \\nabernard 2022-05-12 23:38:46 19245.168.2345.49 \\ncjackson 2022-05-12 19:36:42 192.168.247.153 \\njclark 2022-05-10 10:48:02 192.168.174.117 \\nalevitsk 2022-05-08 12:09:10 192.16874.1390.176 \\njrafael 2022-05-10 22:40:01 192.168.148.115 \\nyappiah 2022-05-12 10:37:22 192.168.103.10654 \\ndaquino 2022-05-08 7:02:35 192.168.168.144\"\n",
    "\n",
    "# Muestra el contenido de `log_file`\n",
    "\n",
    "print(log_file)"
   ],
   "id": "533265a28fc29595"
  },
  {
   "metadata": {},
   "cell_type": "code",
   "outputs": [],
   "execution_count": null,
   "source": [
    "\n",
    "\n",
    "# Asigna a `log_file` una cadena que contiene el nombre de usuario, la fecha, la hora de inicio de sesión y la dirección IP para una serie de intentos de inicio de sesión \n",
    "\n",
    "log_file = \"eraab 2022-05-10 6:03:41 192.168.152.148 \\niuduike 2022-05-09 6:46:40 192.168.22.115 \\nsmartell 2022-05-09 19:30:32 192.168.190.178 \\narutley 2022-05-12 17:00:59 1923.1689.3.24 \\nrjensen 2022-05-11 0:59:26 192.168.213.128 \\naestrada 2022-05-09 19:28:12 1924.1680.27.57 \\nasundara 2022-05-11 18:38:07 192.168.96.200 \\ndkot 2022-05-12 10:52:00 1921.168.1283.75 \\nabernard 2022-05-12 23:38:46 19245.168.2345.49 \\ncjackson 2022-05-12 19:36:42 192.168.247.153 \\njclark 2022-05-10 10:48:02 192.168.174.117 \\nalevitsk 2022-05-08 12:09:10 192.16874.1390.176 \\njrafael 2022-05-10 22:40:01 192.168.148.115 \\nyappiah 2022-05-12 10:37:22 192.168.103.10654 \\ndaquino 2022-05-08 7:02:35 192.168.168.144\"\n",
    "\n",
    "# Asigna a `pattern` un patrón de expresión regular que coincida con las direcciones IP de la forma xxx.xxx.xxx.xxx\n",
    "\n",
    "pattern = \"\\d\\d\\d\\.\\d\\d\\d\\.\\d\\d\\d\\.\\d\\d\\d\""
   ],
   "id": "4b5f8e0695749518"
  },
  {
   "metadata": {},
   "cell_type": "code",
   "outputs": [],
   "execution_count": null,
   "source": [
    "# Asigna a `log_file` una cadena que contiene el nombre de usuario, la fecha, la hora de inicio de sesión y la dirección IP para una serie de intentos de inicio de sesión \n",
    "\n",
    "log_file = \"eraab 2022-05-10 6:03:41 192.168.152.148 \\niuduike 2022-05-09 6:46:40 192.168.22.115 \\nsmartell 2022-05-09 19:30:32 192.168.190.178 \\narutley 2022-05-12 17:00:59 1923.1689.3.24 \\nrjensen 2022-05-11 0:59:26 192.168.213.128 \\naestrada 2022-05-09 19:28:12 1924.1680.27.57 \\nasundara 2022-05-11 18:38:07 192.168.96.200 \\ndkot 2022-05-12 10:52:00 1921.168.1283.75 \\nabernard 2022-05-12 23:38:46 19245.168.2345.49 \\ncjackson 2022-05-12 19:36:42 192.168.247.153 \\njclark 2022-05-10 10:48:02 192.168.174.117 \\nalevitsk 2022-05-08 12:09:10 192.16874.1390.176 \\njrafael 2022-05-10 22:40:01 192.168.148.115 \\nyappiah 2022-05-12 10:37:22 192.168.103.10654 \\ndaquino 2022-05-08 7:02:35 192.168.168.144\"\n",
    "\n",
    "# Asigna a `pattern` un patrón de expresión regular que coincida con las direcciones IP de la forma xxx.xxx.xxx.xxx\n",
    "\n",
    "pattern = \"\\d\\d\\d\\.\\d\\d\\d\\.\\d\\d\\d\\.\\d\\d\\d\"\n",
    "\n",
    "# Utiliza la función `re.findall()` en `pattern` y `log_file` para extraer las direcciones IP de la forma xxx.xxx.xxx.xxx y mostrar los resultados\n",
    "\n",
    "print(re.findall(pattern, log_file))"
   ],
   "id": "25cd45c1a7997943"
  },
  {
   "metadata": {},
   "cell_type": "code",
   "outputs": [],
   "execution_count": null,
   "source": [
    "# Asigna a `log_file` una cadena que contiene el nombre de usuario, la fecha, la hora de inicio de sesión y la dirección IP para una serie de intentos de inicio de sesión \n",
    "\n",
    "log_file = \"eraab 2022-05-10 6:03:41 192.168.152.148 \\niuduike 2022-05-09 6:46:40 192.168.22.115 \\nsmartell 2022-05-09 19:30:32 192.168.190.178 \\narutley 2022-05-12 17:00:59 1923.1689.3.24 \\nrjensen 2022-05-11 0:59:26 192.168.213.128 \\naestrada 2022-05-09 19:28:12 1924.1680.27.57 \\nasundara 2022-05-11 18:38:07 192.168.96.200 \\ndkot 2022-05-12 10:52:00 1921.168.1283.75 \\nabernard 2022-05-12 23:38:46 19245.168.2345.49 \\ncjackson 2022-05-12 19:36:42 192.168.247.153 \\njclark 2022-05-10 10:48:02 192.168.174.117 \\nalevitsk 2022-05-08 12:09:10 192.16874.1390.176 \\njrafael 2022-05-10 22:40:01 192.168.148.115 \\nyappiah 2022-05-12 10:37:22 192.168.103.10654 \\ndaquino 2022-05-08 7:02:35 192.168.168.144\"\n",
    "\n",
    "# Actualiza el `pattern` a un patrón de expresión regular que coincida con las direcciones IP con cualquier variación en el número de dígitos por segmento\n",
    "\n",
    "pattern = \"\\d+\\.\\d+\\.\\d+\\.\\d+\"\n",
    "\n",
    "# Utiliza la función `re.findall()` en `pattern` y `log_file` para extraer las direcciones IP del formulario actualizado especificado anteriormente y muestra los resultados\n",
    "\n",
    "print(re.findall(pattern, log_file))"
   ],
   "id": "ca69f86c894972bb"
  },
  {
   "metadata": {},
   "cell_type": "code",
   "outputs": [],
   "execution_count": null,
   "source": [
    "# Asigna a `log_file` una cadena que contiene el nombre de usuario, la fecha, la hora de inicio de sesión y la dirección IP para una serie de intentos de inicio de sesión \n",
    "\n",
    "log_file = \"eraab 2022-05-10 6:03:41 192.168.152.148 \\niuduike 2022-05-09 6:46:40 192.168.22.115 \\nsmartell 2022-05-09 19:30:32 192.168.190.178 \\narutley 2022-05-12 17:00:59 1923.1689.3.24 \\nrjensen 2022-05-11 0:59:26 192.168.213.128 \\naestrada 2022-05-09 19:28:12 1924.1680.27.57 \\nasundara 2022-05-11 18:38:07 192.168.96.200 \\ndkot 2022-05-12 10:52:00 1921.168.1283.75 \\nabernard 2022-05-12 23:38:46 19245.168.2345.49 \\ncjackson 2022-05-12 19:36:42 192.168.247.153 \\njclark 2022-05-10 10:48:02 192.168.174.117 \\nalevitsk 2022-05-08 12:09:10 192.16874.1390.176 \\njrafael 2022-05-10 22:40:01 192.168.148.115 \\nyappiah 2022-05-12 10:37:22 192.168.103.10654 \\ndaquino 2022-05-08 7:02:35 192.168.168.144\"\n",
    "\n",
    "# Asigna `pattern` a una expresión regular que coincida con todas las direcciones IP válidas y solo aquellas \n",
    "\n",
    "pattern = \"\\d{1,3}\\.\\d{1,3}\\.\\d{1,3}\\.\\d{1,3}\"\n",
    "\n",
    "# Utiliza `re.findall()` en `pattern` y `log_file` y asigna `valid_ip_addresses` al resultado \n",
    "\n",
    "valid_ip_addresses = re.findall(pattern, log_file)\n",
    "\n",
    "# Muestra el contenido de `valid_ip_addresses`\n",
    "\n",
    "print(valid_ip_addresses)"
   ],
   "id": "7676ad31103ac4d6"
  },
  {
   "metadata": {},
   "cell_type": "code",
   "outputs": [],
   "execution_count": null,
   "source": [
    "# Asigna a `flagged_addresses` una lista de direcciones IP que se denunciaron previamente por actividad inusual\n",
    "\n",
    "flagged_addresses = [\"192.168.190.178\", \"192.168.96.200\", \"192.168.174.117\", \"192.168.168.144\"]\n",
    "\n",
    "# Muestra el contenido de `flagged_addresses`\n",
    "\n",
    "print(flagged_addresses)"
   ],
   "id": "738e887028137378"
  },
  {
   "metadata": {
    "ExecuteTime": {
     "end_time": "2024-10-30T05:08:31.995849Z",
     "start_time": "2024-10-30T05:08:31.949190Z"
    }
   },
   "cell_type": "code",
   "source": [
    "# Asigna a `log_file` una cadena que contiene el nombre de usuario, la fecha, la hora de inicio de sesión y la dirección IP para una serie de intentos de inicio de sesión \n",
    "\n",
    "log_file = \"eraab 2022-05-10 6:03:41 192.168.152.148 \\niuduike 2022-05-09 6:46:40 192.168.22.115 \\nsmartell 2022-05-09 19:30:32 192.168.190.178 \\narutley 2022-05-12 17:00:59 1923.1689.3.24 \\nrjensen 2022-05-11 0:59:26 192.168.213.128 \\naestrada 2022-05-09 19:28:12 1924.1680.27.57 \\nasundara 2022-05-11 18:38:07 192.168.96.200 \\ndkot 2022-05-12 10:52:00 1921.168.1283.75 \\nabernard 2022-05-12 23:38:46 19245.168.2345.49 \\ncjackson 2022-05-12 19:36:42 192.168.247.153 \\njclark 2022-05-10 10:48:02 192.168.174.117 \\nalevitsk 2022-05-08 12:09:10 192.16874.1390.176 \\njrafael 2022-05-10 22:40:01 192.168.148.115 \\nyappiah 2022-05-12 10:37:22 192.168.103.10654 \\ndaquino 2022-05-08 7:02:35 192.168.168.144\"\n",
    "\n",
    "# Asigna `pattern` a una expresión regular que coincida con todas las direcciones IP válidas y solo aquellas \n",
    "\n",
    "pattern = \"\\d{1,3}\\.\\d{1,3}\\.\\d{1,3}\\.\\d{1,3}\"\n",
    "\n",
    "# Utiliza `re.findall()` en `pattern` y `log_file` y asigna `valid_ip_addresses` al resultado \n",
    "\n",
    "valid_ip_addresses = re.findall(pattern, log_file)\n",
    "\n",
    "# Asigna a `flagged_addresses` una lista de direcciones IP que se denunciaron previamente por actividad inusual\n",
    "\n",
    "flagged_addresses = [\"192.168.190.178\", \"192.168.96.200\", \"192.168.174.117\", \"192.168.168.144\"]\n",
    "\n",
    "# La sentencia iterativa comienza aquí\n",
    "# Bucle a través de `valid_ip_addresses` con `address` como variable de bucle\n",
    "\n",
    "for address in valid_ip_addresses:\n",
    "\n",
    "    # Condicional comienza aquí\n",
    "    # Si `address` pertenece a `flagged_addresses`, muestra \"Se denunció la dirección IP ______ para un análisis adicional\".\n",
    "\n",
    "    if address in flagged_addresses:\n",
    "        print(\"La dirección IP\", address, \"se denunció para un análisis adicional.\")\n",
    "\n",
    "    # De lo contrario, muestra \"La dirección IP ______ no requiere un análisis adicional\".\n",
    "\n",
    "    else:\n",
    "        print(\"La dirección IP\", address, \"no requiere un análisis adicional.\")"
   ],
   "id": "baa1bd1b61300344",
   "outputs": [
    {
     "name": "stdout",
     "output_type": "stream",
     "text": [
      "La dirección IP 192.168.152.148 no requiere un análisis adicional.\n",
      "La dirección IP 192.168.22.115 no requiere un análisis adicional.\n",
      "La dirección IP 192.168.190.178 se denunció para un análisis adicional.\n",
      "La dirección IP 192.168.213.128 no requiere un análisis adicional.\n",
      "La dirección IP 192.168.96.200 se denunció para un análisis adicional.\n",
      "La dirección IP 192.168.247.153 no requiere un análisis adicional.\n",
      "La dirección IP 192.168.174.117 se denunció para un análisis adicional.\n",
      "La dirección IP 192.168.148.115 no requiere un análisis adicional.\n",
      "La dirección IP 192.168.103.106 no requiere un análisis adicional.\n",
      "La dirección IP 192.168.168.144 se denunció para un análisis adicional.\n"
     ]
    },
    {
     "name": "stderr",
     "output_type": "stream",
     "text": [
      "<>:7: SyntaxWarning: invalid escape sequence '\\d'\n",
      "<>:7: SyntaxWarning: invalid escape sequence '\\d'\n",
      "C:\\Users\\Usuario\\AppData\\Local\\Temp\\ipykernel_4372\\2524497331.py:7: SyntaxWarning: invalid escape sequence '\\d'\n",
      "  pattern = \"\\d{1,3}\\.\\d{1,3}\\.\\d{1,3}\\.\\d{1,3}\"\n"
     ]
    }
   ],
   "execution_count": 12
  },
  {
   "metadata": {},
   "cell_type": "code",
   "outputs": [],
   "execution_count": null,
   "source": "",
   "id": "189e5567c004fe82"
  }
 ],
 "metadata": {
  "kernelspec": {
   "display_name": "Python 3",
   "language": "python",
   "name": "python3"
  },
  "language_info": {
   "codemirror_mode": {
    "name": "ipython",
    "version": 2
   },
   "file_extension": ".py",
   "mimetype": "text/x-python",
   "name": "python",
   "nbconvert_exporter": "python",
   "pygments_lexer": "ipython2",
   "version": "2.7.6"
  }
 },
 "nbformat": 4,
 "nbformat_minor": 5
}
