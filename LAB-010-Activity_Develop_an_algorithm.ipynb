{
 "cells": [
  {
   "cell_type": "code",
   "id": "initial_id",
   "metadata": {
    "collapsed": true,
    "ExecuteTime": {
     "end_time": "2024-10-29T05:14:47.288496Z",
     "start_time": "2024-10-29T05:14:47.274833Z"
    }
   },
   "source": [
    "# Asigna a `approved_users` una lista de nombres de usuario aprobados\n",
    "\n",
    "approved_users = [\"elarson\", \"bmoreno\", \"tshah\", \"sgilmore\", \"eraab\"]\n",
    "\n",
    "# Asigna a `approved_devices` una lista de ID de dispositivo que corresponden a los nombres de usuario en `approved_users`\n",
    "\n",
    "approved_devices = [\"8rp2k75\", \"hl0s5o1\", \"2ye3lzg\", \"4n482ts\", \"a307vir\"]\n",
    "\n",
    "# Muestra el elemento en la indexación especificada en `approved_users`\n",
    "\n",
    "print(approved_users[0])\n",
    "\n",
    "# Muestra el elemento en la indexación especificada en `approved_devices`\n",
    "\n",
    "print(approved_devices[0])"
   ],
   "outputs": [
    {
     "name": "stdout",
     "output_type": "stream",
     "text": [
      "elarson\n",
      "8rp2k75\n"
     ]
    }
   ],
   "execution_count": 1
  },
  {
   "metadata": {
    "ExecuteTime": {
     "end_time": "2024-10-29T05:18:37.588754Z",
     "start_time": "2024-10-29T05:18:37.567926Z"
    }
   },
   "cell_type": "code",
   "source": [
    "# Asigna a `approved_users` una lista de nombres de usuario aprobados\n",
    "\n",
    "approved_users = [\"elarson\", \"bmoreno\", \"tshah\", \"sgilmore\", \"eraab\"]\n",
    "\n",
    "# Asigna a `approved_devices` una lista de ID de dispositivo que corresponden a los nombres de usuario en `approved_users`\n",
    "\n",
    "approved_devices = [\"8rp2k75\", \"hl0s5o1\", \"2ye3lzg\", \"4n482ts\", \"a307vir\"]\n",
    "\n",
    "# Asigna a `new_user` el nombre de usuario de un nuevo usuario aprobado\n",
    "\n",
    "new_user = \"gesparza\"\n",
    "\n",
    "# Asigna a `new_device` la ID de dispositivo del nuevo usuario aprobado\n",
    "\n",
    "new_device = \"3rcv4w6\"\n",
    "\n",
    "# Agrega el nombre de usuario y la ID de dispositivo de ese usuario a `approved_users` y `approved_devices` respectivamente\n",
    "\n",
    "approved_users.append(new_user)\n",
    "approved_devices.append(new_device)\n",
    "\n",
    "# Muestra el contenido de `approved_users`\n",
    "\n",
    "print(approved_users)\n",
    "\n",
    "# Muestra el contenido de `approved_devices`\n",
    "\n",
    "print(approved_devices)\n"
   ],
   "id": "ae2bbafac4832f7",
   "outputs": [
    {
     "name": "stdout",
     "output_type": "stream",
     "text": [
      "['elarson', 'bmoreno', 'tshah', 'sgilmore', 'eraab', 'gesparza']\n",
      "['8rp2k75', 'hl0s5o1', '2ye3lzg', '4n482ts', 'a307vir', '3rcv4w6']\n"
     ]
    }
   ],
   "execution_count": 2
  },
  {
   "metadata": {
    "ExecuteTime": {
     "end_time": "2024-10-29T05:23:14.028820Z",
     "start_time": "2024-10-29T05:23:14.013480Z"
    }
   },
   "cell_type": "code",
   "source": [
    "# Asigna a `approved_users` una lista de nombres de usuario aprobados\n",
    "\n",
    "approved_users = [\"elarson\", \"bmoreno\", \"tshah\", \"sgilmore\", \"eraab\", \"gesparza\"]\n",
    "\n",
    "# Asigna a `approved_devices` una lista de ID de dispositivo que corresponden a los nombres de usuario en `approved_users`\n",
    "\n",
    "approved_devices = [\"8rp2k75\", \"hl0s5o1\", \"2ye3lzg\", \"4n482ts\", \"a307vir\", \"3rcv4w6\"]\n",
    "\n",
    "# Asigna a `removed_user` el nombre de usuario del empleado que dejó el equipo\n",
    "\n",
    "removed_user = \"tshah\"\n",
    "\n",
    "# Asigna a `removed_device` la ID de dispositivo del empleado que dejó el equipo\n",
    "\n",
    "removed_device = \"2ye3lzg\"\n",
    "\n",
    "# Elimina el nombre de usuario y su ID de dispositivo de `approved_users` y `approved_devices` respectivamente\n",
    "\n",
    "approved_users.remove(removed_user)\n",
    "approved_devices.remove(removed_device)\n",
    "\n",
    "# Muestra `approved_users`\n",
    "\n",
    "print(approved_users)\n",
    "\n",
    "# Muestra `approved_devices`\n",
    "\n",
    "print(approved_devices)"
   ],
   "id": "a731f43a53e6a44c",
   "outputs": [
    {
     "name": "stdout",
     "output_type": "stream",
     "text": [
      "['elarson', 'bmoreno', 'sgilmore', 'eraab', 'gesparza']\n",
      "['8rp2k75', 'hl0s5o1', '4n482ts', 'a307vir', '3rcv4w6']\n"
     ]
    }
   ],
   "execution_count": 3
  },
  {
   "metadata": {
    "ExecuteTime": {
     "end_time": "2024-10-29T05:25:29.269527Z",
     "start_time": "2024-10-29T05:25:29.255101Z"
    }
   },
   "cell_type": "code",
   "source": [
    "# Asigna a `approved_users` una lista de nombres de usuario aprobados\n",
    "\n",
    "approved_users = [\"elarson\", \"bmoreno\", \"sgilmore\", \"eraab\", \"gesparza\"]\n",
    "\n",
    "# Asigna a `approved_devices` una lista de ID de dispositivo que corresponden a los nombres de usuario en `approved_users`\n",
    "\n",
    "approved_devices = [\"8rp2k75\", \"hl0s5o1\", \"4n482ts\", \"a307vir\", \"3rcv4w6\"]\n",
    "\n",
    "# Asigna a `username` un nombre de usuario\n",
    "\n",
    "username = \"sgilmore\"\n",
    "\n",
    "# Sentencia condicional\n",
    "# Si `username` pertenece a `approved_users`, muestra \"El usuario ______ está aprobado para acceder al sistema\".\n",
    "# De lo contrario, muestra \"El usuario ______ no está aprobado para acceder al sistema\".\n",
    "if username in approved_users:\n",
    "    print(\"El nombre de usuario\", username, \"está aprobado para acceder al sistema.\")\n",
    "else:\n",
    "    print(\"El usuario\", username, \"no está aprobado para acceder al sistema.\")"
   ],
   "id": "c15e7c22022f389a",
   "outputs": [
    {
     "name": "stdout",
     "output_type": "stream",
     "text": [
      "El nombre de usuario sgilmore está aprobado para acceder al sistema.\n"
     ]
    }
   ],
   "execution_count": 4
  },
  {
   "metadata": {
    "ExecuteTime": {
     "end_time": "2024-10-29T05:29:53.926388Z",
     "start_time": "2024-10-29T05:29:53.902933Z"
    }
   },
   "cell_type": "code",
   "source": [
    "# Asigna a `approved_users` una lista de nombres de usuario aprobados\n",
    "\n",
    "approved_users = [\"elarson\", \"bmoreno\", \"sgilmore\", \"eraab\", \"gesparza\"]\n",
    "\n",
    "# Asigna a `approved_devices` una lista de ID de dispositivo que corresponden a los nombres de usuario en `approved_users`\n",
    "\n",
    "approved_devices = [\"8rp2k75\", \"hl0s5o1\", \"4n482ts\", \"a307vir\", \"3rcv4w6\"]\n",
    "\n",
    "# Asigna a `username` un nombre de usuario\n",
    "\n",
    "username = \"sgilmore\"\n",
    "\n",
    "# Asigna a `ind` la indexación de `username` en `approved_users`\n",
    "\n",
    "ind = approved_users.index(username)\n",
    "\n",
    "# Muestra el valor de `ind`\n",
    "\n",
    "print(ind)"
   ],
   "id": "4839be1a80c0c7a",
   "outputs": [
    {
     "name": "stdout",
     "output_type": "stream",
     "text": [
      "2\n"
     ]
    }
   ],
   "execution_count": 5
  },
  {
   "metadata": {
    "ExecuteTime": {
     "end_time": "2024-10-29T05:32:30.407043Z",
     "start_time": "2024-10-29T05:32:30.396492Z"
    }
   },
   "cell_type": "code",
   "source": [
    "# Asigna a `approved_users` una lista de nombres de usuario aprobados\n",
    "\n",
    "approved_users = [\"elarson\", \"bmoreno\", \"sgilmore\", \"eraab\", \"gesparza\"]\n",
    "\n",
    "# Asigna a `approved_devices` una lista de ID de dispositivo que corresponden a los nombres de usuario en `approved_users`\n",
    "\n",
    "approved_devices = [\"8rp2k75\", \"hl0s5o1\", \"4n482ts\", \"a307vir\", \"3rcv4w6\"]\n",
    "\n",
    "# Asigna a `username` un nombre de usuario\n",
    "\n",
    "username = \"sgilmore\"\n",
    "\n",
    "# Asigna a `ind` la indexación de `username` en `approved_users`\n",
    "\n",
    "ind = approved_users.index(username)\n",
    "\n",
    "# Muestra la ID del dispositivo en la indexación que coincide con el valor de `ind` en `approved_devices`\n",
    "\n",
    "print(approved_devices[ind])"
   ],
   "id": "ebe698c3e6922c80",
   "outputs": [
    {
     "name": "stdout",
     "output_type": "stream",
     "text": [
      "4n482ts\n"
     ]
    }
   ],
   "execution_count": 6
  },
  {
   "metadata": {
    "ExecuteTime": {
     "end_time": "2024-10-29T05:34:27.511701Z",
     "start_time": "2024-10-29T05:34:27.498836Z"
    }
   },
   "cell_type": "code",
   "source": [
    "# Asigna a `approved_users` una lista de nombres de usuario aprobados\n",
    "\n",
    "approved_users = [\"elarson\", \"bmoreno\", \"sgilmore\", \"eraab\", \"gesparza\"]\n",
    "\n",
    "# Asigna a `approved_devices` una lista de ID de dispositivo que corresponden a los nombres de usuario en `approved_users`\n",
    "\n",
    "approved_devices = [\"8rp2k75\", \"hl0s5o1\", \"4n482ts\", \"a307vir\", \"3rcv4w6\"]\n",
    "\n",
    "# Asigna a `username` un nombre de usuario\n",
    "\n",
    "username = \"sgilmore\"\n",
    "\n",
    "# Asigna a `device_id` una ID de dispositivo\n",
    "\n",
    "device_id = \"4n482ts\"\n",
    "\n",
    "# Asigna a `ind` la indexación de `username` en `approved_users`\n",
    "\n",
    "ind = approved_users.index(username)\n",
    "\n",
    "# Sentencia condicional\n",
    "# Si `username` pertenece a `approved_users`, y si la ID de dispositivo en `ind` en `approved_devices` coincide con `device_id`,\n",
    "# entonces se muestra un mensaje de que el nombre de usuario está aprobado,\n",
    "# seguido de un mensaje de que tiene el dispositivo correcto\n",
    "\n",
    "if username in approved_users and device_id in approved_devices:\n",
    "    print(\"El nombre de usuario\", username, \"está aprobado para acceder al sistema.\")\n",
    "    print(device_id, \"es el dispositivo asignado para\", username)"
   ],
   "id": "f5a19c28462a8d0e",
   "outputs": [
    {
     "name": "stdout",
     "output_type": "stream",
     "text": [
      "El nombre de usuario sgilmore está aprobado para acceder al sistema.\n",
      "4n482ts es el dispositivo asignado para sgilmore\n"
     ]
    }
   ],
   "execution_count": 7
  },
  {
   "metadata": {
    "ExecuteTime": {
     "end_time": "2024-10-29T05:49:14.034646Z",
     "start_time": "2024-10-29T05:49:14.019558Z"
    }
   },
   "cell_type": "code",
   "source": [
    "# Asigna a `approved_users` una lista de nombres de usuario aprobados\n",
    "\n",
    "approved_users = [\"elarson\", \"bmoreno\", \"sgilmore\", \"eraab\", \"gesparza\"]\n",
    "\n",
    "# Asigna a `approved_devices` una lista de ID de dispositivo que corresponden a los nombres de usuario en `approved_users`\n",
    "\n",
    "approved_devices = [\"8rp2k75\", \"hl0s5o1\", \"4n482ts\", \"a307vir\", \"3rcv4w6\"]\n",
    "\n",
    "# Asigna a `username` un nombre de usuario\n",
    "\n",
    "username = \"sgilmore\"\n",
    "\n",
    "# Asigna a `device_id` una ID de dispositivo\n",
    "\n",
    "device_id = \"4n482ts\"\n",
    "\n",
    "# Asigna a `ind` la indexación de `username` en `approved_users`\n",
    "\n",
    "ind = approved_users.index(username)\n",
    "\n",
    "# Sentencia if# Si `username` pertenece a `approved_users`, y si el elemento en `ind` en `approved_devices` coincide con `device_id`,\n",
    "# entonces se muestra un mensaje de que el nombre de usuario está aprobado,\n",
    "# seguido de un mensaje de que tiene el dispositivo correcto\n",
    "\n",
    "if username in approved_users and device_id == approved_devices[ind]:\n",
    "    print(\"El usuario\", username, \"está aprobado para acceder al sistema.\")\n",
    "    print(device_id, \"es el dispositivo asignado para\", username)\n",
    "\n",
    "# Sentencia elif\n",
    "# Se ocupa del caso cuando `username` pertenece a `approved_users` pero el elemento en `ind` en `approved_devices` no coincide con `device_id`,\n",
    "# y muestra dos mensajes en consecuencia\n",
    "\n",
    "elif username in approved_users == approved_devices[ind] and device_id in approved_devices != approved_devices[ind]:\n",
    "    print(\"El usuario\", username, \"está aprobado para acceder al sistema, pero\", device_id, \"no es su dispositivo asignado.\")\n",
    "\n",
    "# Sentencia else\n",
    "# Se ocupa del caso cuando `username` no pertenece a `approved_users`,\n",
    "# y muestra un mensaje en consecuencia \n",
    "\n",
    "else:\n",
    "    print(\"El usuario\", username, \"no está aprobado para acceder al sistema.\")"
   ],
   "id": "20e9a80f19d97753",
   "outputs": [
    {
     "name": "stdout",
     "output_type": "stream",
     "text": [
      "El usuario sgilmore está aprobado para acceder al sistema.\n",
      "4n482ts es el dispositivo asignado para sgilmore\n"
     ]
    }
   ],
   "execution_count": 8
  },
  {
   "metadata": {
    "ExecuteTime": {
     "end_time": "2024-10-29T05:59:31.127733Z",
     "start_time": "2024-10-29T05:59:31.095968Z"
    }
   },
   "cell_type": "code",
   "source": [
    "# Asigna a `approved_users` una lista de nombres de usuario aprobados\n",
    "\n",
    "approved_users = [\"elarson\", \"bmoreno\", \"sgilmore\", \"eraab\", \"gesparza\"]\n",
    "\n",
    "# Asigna a `approved_devices` una lista de ID de dispositivo que corresponden a los nombres de usuario en `approved_users`\n",
    "\n",
    "approved_devices = [\"8rp2k75\", \"hl0s5o1\", \"4n482ts\", \"a307vir\", \"3rcv4w6\"]\n",
    "\n",
    "# Define una función llamada `login` que reciba dos parámetros, `username` y `device_id`\n",
    "\n",
    "def login(username,device_id):\n",
    "\n",
    "    # Si `username` pertenece a `approved_users`, \n",
    "\n",
    "    if username in approved_users:\n",
    "\n",
    "        # entonces muestra \"El usuario ______ está aprobado para acceder al sistema.\",\n",
    "\n",
    "        print(\"El usuario\", username, \"está aprobado para acceder al sistema.\")\n",
    "\n",
    "# asigna a `ind` la indexación de `username` en `approved_users`\n",
    "\n",
    "        ind = approved_users.index(username)\n",
    "\n",
    "        # y ejecuta la siguiente sentencia condicional\n",
    "        # Si `device_id` coincide con el elemento en la indexación `ind` en `approved_devices`,\n",
    "\n",
    "        if device_id == approved_devices[ind]:\n",
    "\n",
    "          # entonces muestra \"______ es el dispositivo asignado para ______\" \n",
    "\n",
    "            print(device_id, \"es el dispositivo asignado para\", username)\n",
    "\n",
    "        # De lo contrario,\n",
    "\n",
    "        else:\n",
    "\n",
    "          # muestra \"______ no es su dispositivo asignado\"\n",
    "\n",
    "          print(device_id, \"no es su dispositivo asignado.\")\n",
    "\n",
    "    # De lo contrario (parte de la sentencia condicional externa y gestiona el caso cuando `username` no pertenece a `approved_users`),\n",
    "\n",
    "    else:\n",
    "\n",
    "        # Muestra \"El usuario ______ no está aprobado para acceder al sistema.\"\n",
    "\n",
    "        print(\"El nombre de usuario\", username, \"no está aprobado para acceder al sistema.\")\n",
    "\n",
    "# Llama a la función que acabas de definir para experimentar con diferentes combinaciones de nombre de usuario y device_id\n",
    "\n",
    "login(\"elarson\",\"8rp2k75\")\n",
    "login(\"bmoreno\",\"4n482ts\")\n",
    "login(\"gesparzo\",\"3rcv4w6\")"
   ],
   "id": "4843674d6bc71fdb",
   "outputs": [
    {
     "name": "stdout",
     "output_type": "stream",
     "text": [
      "El usuario elarson está aprobado para acceder al sistema.\n",
      "8rp2k75 es el dispositivo asignado para elarson\n",
      "El usuario bmoreno está aprobado para acceder al sistema.\n",
      "4n482ts no es su dispositivo asignado.\n",
      "El nombre de usuario gesparzo no está aprobado para acceder al sistema.\n"
     ]
    }
   ],
   "execution_count": 9
  },
  {
   "metadata": {
    "ExecuteTime": {
     "end_time": "2024-10-29T06:01:17.727781Z",
     "start_time": "2024-10-29T06:01:17.712936Z"
    }
   },
   "cell_type": "code",
   "source": [
    "my_list = [\"a\", \"b\", \"c\", \"d\"]\n",
    "\n",
    "my_list[2] =4\n",
    "\n",
    "print(my_list)"
   ],
   "id": "8194147ffb77444",
   "outputs": [
    {
     "name": "stdout",
     "output_type": "stream",
     "text": [
      "['a', 'b', 4, 'd']\n"
     ]
    }
   ],
   "execution_count": 10
  },
  {
   "metadata": {},
   "cell_type": "code",
   "outputs": [],
   "execution_count": null,
   "source": "",
   "id": "dc878105750b0d2e"
  }
 ],
 "metadata": {
  "kernelspec": {
   "display_name": "Python 3",
   "language": "python",
   "name": "python3"
  },
  "language_info": {
   "codemirror_mode": {
    "name": "ipython",
    "version": 2
   },
   "file_extension": ".py",
   "mimetype": "text/x-python",
   "name": "python",
   "nbconvert_exporter": "python",
   "pygments_lexer": "ipython2",
   "version": "2.7.6"
  }
 },
 "nbformat": 4,
 "nbformat_minor": 5
}
