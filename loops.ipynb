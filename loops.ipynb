{
 "cells": [
  {
   "cell_type": "code",
   "id": "initial_id",
   "metadata": {
    "collapsed": true,
    "ExecuteTime": {
     "end_time": "2024-10-17T13:17:21.066448Z",
     "start_time": "2024-10-17T13:17:21.056072Z"
    }
   },
   "source": [
    "# for loops\n",
    "for i in [1,2,3,4,5]: # Header\n",
    "    print(i) # Body "
   ],
   "outputs": [
    {
     "name": "stdout",
     "output_type": "stream",
     "text": [
      "1\n",
      "2\n",
      "3\n",
      "4\n",
      "5\n"
     ]
    }
   ],
   "execution_count": 1
  },
  {
   "metadata": {
    "ExecuteTime": {
     "end_time": "2024-10-17T13:22:58.661008Z",
     "start_time": "2024-10-17T13:22:58.650636Z"
    }
   },
   "cell_type": "code",
   "source": [
    "# Run for loop with range\n",
    "for i in range(0,9):\n",
    "    print(i)"
   ],
   "id": "e72f6325d99ce19d",
   "outputs": [
    {
     "name": "stdout",
     "output_type": "stream",
     "text": [
      "0\n",
      "1\n",
      "2\n",
      "3\n",
      "4\n",
      "5\n",
      "6\n",
      "7\n",
      "8\n"
     ]
    }
   ],
   "execution_count": 3
  },
  {
   "metadata": {
    "ExecuteTime": {
     "end_time": "2024-10-17T13:22:16.314381Z",
     "start_time": "2024-10-17T13:22:16.306299Z"
    }
   },
   "cell_type": "code",
   "source": [
    "# Run for loop with range\n",
    "for i in range(10):\n",
    "    print(i)"
   ],
   "id": "5d097aa48ec042a4",
   "outputs": [
    {
     "name": "stdout",
     "output_type": "stream",
     "text": [
      "0\n",
      "1\n",
      "2\n",
      "3\n",
      "4\n",
      "5\n",
      "6\n",
      "7\n",
      "8\n",
      "9\n"
     ]
    }
   ],
   "execution_count": 2
  },
  {
   "metadata": {
    "ExecuteTime": {
     "end_time": "2024-10-17T14:43:54.880602Z",
     "start_time": "2024-10-17T14:43:54.863153Z"
    }
   },
   "cell_type": "code",
   "source": [
    "# create a while loop\n",
    "max_devices = 5\n",
    "i = 1\n",
    "\n",
    "while i < max_devices:\n",
    "    print(\"User cant still connect to additional devices\")\n",
    "    i = i + 1\n",
    "print(\"User has reached maximum number of connected devices\")"
   ],
   "id": "43e8df473675d5e7",
   "outputs": [
    {
     "name": "stdout",
     "output_type": "stream",
     "text": [
      "User cant still connect to additional devices\n",
      "User cant still connect to additional devices\n",
      "User cant still connect to additional devices\n",
      "User cant still connect to additional devices\n",
      "User has reached maximum number of connected devices\n"
     ]
    }
   ],
   "execution_count": 6
  },
  {
   "metadata": {},
   "cell_type": "code",
   "outputs": [],
   "execution_count": null,
   "source": "",
   "id": "d39164f444e1861a"
  }
 ],
 "metadata": {
  "kernelspec": {
   "display_name": "Python 3",
   "language": "python",
   "name": "python3"
  },
  "language_info": {
   "codemirror_mode": {
    "name": "ipython",
    "version": 2
   },
   "file_extension": ".py",
   "mimetype": "text/x-python",
   "name": "python",
   "nbconvert_exporter": "python",
   "pygments_lexer": "ipython2",
   "version": "2.7.6"
  }
 },
 "nbformat": 4,
 "nbformat_minor": 5
}
