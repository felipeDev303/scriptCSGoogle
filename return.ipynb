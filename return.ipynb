{
 "cells": [
  {
   "cell_type": "code",
   "id": "initial_id",
   "metadata": {
    "collapsed": true,
    "ExecuteTime": {
     "end_time": "2024-10-24T14:31:58.142533Z",
     "start_time": "2024-10-24T14:31:58.129226Z"
    }
   },
   "source": [
    "def sumar(a, b):\n",
    "    resultado = a + b\n",
    "\n",
    "suma = sumar(5, 3)\n",
    "print(suma)"
   ],
   "outputs": [
    {
     "name": "stdout",
     "output_type": "stream",
     "text": [
      "None\n"
     ]
    }
   ],
   "execution_count": 1
  },
  {
   "metadata": {
    "ExecuteTime": {
     "end_time": "2024-10-24T14:32:06.115677Z",
     "start_time": "2024-10-24T14:32:06.108243Z"
    }
   },
   "cell_type": "code",
   "source": [
    "def sumar(a, b):\n",
    "    resultado = a + b\n",
    "    return(resultado)\n",
    "\n",
    "suma = sumar(5, 3)\n",
    "print(suma)"
   ],
   "id": "f3c826a3627f70c7",
   "outputs": [
    {
     "name": "stdout",
     "output_type": "stream",
     "text": [
      "8\n"
     ]
    }
   ],
   "execution_count": 2
  },
  {
   "metadata": {
    "ExecuteTime": {
     "end_time": "2024-10-24T14:35:07.039794Z",
     "start_time": "2024-10-24T14:35:07.016484Z"
    }
   },
   "cell_type": "code",
   "source": [
    "def operaciones(a, b):\n",
    "    suma = a + b\n",
    "    resta = a - b\n",
    "    return suma, resta\n",
    "\n",
    "resultado_suma, resultado_resta = operaciones(10, 5)\n",
    "print(resultado_suma)  # Imprime 15\n",
    "print(resultado_resta)  # Imprime 5"
   ],
   "id": "c023c5c9374e1ecf",
   "outputs": [
    {
     "name": "stdout",
     "output_type": "stream",
     "text": [
      "15\n",
      "5\n"
     ]
    }
   ],
   "execution_count": 3
  },
  {
   "metadata": {
    "ExecuteTime": {
     "end_time": "2024-10-25T01:49:56.348678Z",
     "start_time": "2024-10-25T01:49:56.331731Z"
    }
   },
   "cell_type": "code",
   "source": [
    "def greet(name): \n",
    "    greeting = \"Hola\" \n",
    "    return name \n",
    "greet(\"John\")"
   ],
   "id": "300e4bf949aa6546",
   "outputs": [
    {
     "data": {
      "text/plain": [
       "'John'"
      ]
     },
     "execution_count": 4,
     "metadata": {},
     "output_type": "execute_result"
    }
   ],
   "execution_count": 4
  },
  {
   "metadata": {},
   "cell_type": "code",
   "outputs": [],
   "execution_count": null,
   "source": "",
   "id": "cc65cfdd7e616dd5"
  }
 ],
 "metadata": {
  "kernelspec": {
   "display_name": "Python 3",
   "language": "python",
   "name": "python3"
  },
  "language_info": {
   "codemirror_mode": {
    "name": "ipython",
    "version": 2
   },
   "file_extension": ".py",
   "mimetype": "text/x-python",
   "name": "python",
   "nbconvert_exporter": "python",
   "pygments_lexer": "ipython2",
   "version": "2.7.6"
  }
 },
 "nbformat": 4,
 "nbformat_minor": 5
}
