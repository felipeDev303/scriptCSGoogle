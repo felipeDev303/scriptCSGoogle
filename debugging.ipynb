{
 "cells": [
  {
   "cell_type": "code",
   "id": "initial_id",
   "metadata": {
    "collapsed": true,
    "ExecuteTime": {
     "end_time": "2024-11-01T03:06:00.419097Z",
     "start_time": "2024-11-01T03:06:00.410261Z"
    }
   },
   "source": [
    "# Errores de sintaxis \n",
    "# SyntaxError: unterminated string literal (detected at line 1)\n",
    "message = \"You are debugging a syntax error\n",
    "print(message)"
   ],
   "outputs": [
    {
     "ename": "SyntaxError",
     "evalue": "unterminated string literal (detected at line 1) (440344544.py, line 1)",
     "output_type": "error",
     "traceback": [
      "\u001B[1;36m  Cell \u001B[1;32mIn[1], line 1\u001B[1;36m\u001B[0m\n\u001B[1;33m    message = \"You are debugging a syntax error\u001B[0m\n\u001B[1;37m              ^\u001B[0m\n\u001B[1;31mSyntaxError\u001B[0m\u001B[1;31m:\u001B[0m unterminated string literal (detected at line 1)\n"
     ]
    }
   ],
   "execution_count": 1
  },
  {
   "metadata": {
    "ExecuteTime": {
     "end_time": "2024-11-01T03:10:29.464681Z",
     "start_time": "2024-11-01T03:10:29.456001Z"
    }
   },
   "cell_type": "code",
   "source": [
    "# Errores lógicos\n",
    "# User has not reached maximum number of login attempts.\n",
    "login_attempts = 5\n",
    "if login_attempts >= 5:\n",
    "    print(\"User has not reached maximum number of login attempts.\")\n",
    "else:\n",
    "    print(\"User has reached maximum number of login attempts.\")"
   ],
   "id": "744ec290e74b1c6a",
   "outputs": [
    {
     "name": "stdout",
     "output_type": "stream",
     "text": [
      "User has not reached maximum number of login attempts.\n"
     ]
    }
   ],
   "execution_count": 2
  },
  {
   "metadata": {
    "ExecuteTime": {
     "end_time": "2024-11-01T03:13:05.725325Z",
     "start_time": "2024-11-01T03:13:04.504582Z"
    }
   },
   "cell_type": "code",
   "source": [
    "# Excepciones\n",
    "# NameError: name 'unusual_logins' is not defined\n",
    "username = \"elarson\"\n",
    "month = \"March\"\n",
    "total_logins = 75\n",
    "failed_logins = 18\n",
    "print(\"Login report for\", username, \"in\", month)\n",
    "print(\"Total logins:\", total_logins)\n",
    "print(\"Failed logins:\", failed_logins)\n",
    "print(\"Unusual logins:\", unusual_logins)"
   ],
   "id": "cdd14905abc8e96b",
   "outputs": [
    {
     "name": "stdout",
     "output_type": "stream",
     "text": [
      "Login report for elarson in March\n",
      "Total logins: 75\n",
      "Failed logins: 18\n"
     ]
    },
    {
     "ename": "NameError",
     "evalue": "name 'unusual_logins' is not defined",
     "output_type": "error",
     "traceback": [
      "\u001B[1;31m---------------------------------------------------------------------------\u001B[0m",
      "\u001B[1;31mNameError\u001B[0m                                 Traceback (most recent call last)",
      "Cell \u001B[1;32mIn[3], line 8\u001B[0m\n\u001B[0;32m      6\u001B[0m \u001B[38;5;28mprint\u001B[39m(\u001B[38;5;124m\"\u001B[39m\u001B[38;5;124mTotal logins:\u001B[39m\u001B[38;5;124m\"\u001B[39m, total_logins)\n\u001B[0;32m      7\u001B[0m \u001B[38;5;28mprint\u001B[39m(\u001B[38;5;124m\"\u001B[39m\u001B[38;5;124mFailed logins:\u001B[39m\u001B[38;5;124m\"\u001B[39m, failed_logins)\n\u001B[1;32m----> 8\u001B[0m \u001B[38;5;28mprint\u001B[39m(\u001B[38;5;124m\"\u001B[39m\u001B[38;5;124mUnusual logins:\u001B[39m\u001B[38;5;124m\"\u001B[39m, unusual_logins)\n",
      "\u001B[1;31mNameError\u001B[0m: name 'unusual_logins' is not defined"
     ]
    }
   ],
   "execution_count": 3
  },
  {
   "metadata": {
    "ExecuteTime": {
     "end_time": "2024-11-01T03:22:15.529888Z",
     "start_time": "2024-11-01T03:22:15.518752Z"
    }
   },
   "cell_type": "code",
   "source": [
    "new_users = [\"sgilmore\", \"bmoreno\"]\n",
    "approved_users = [\"bmoreno\", \"tshah\", \"elarson\"]\n",
    "def add_users():\n",
    "    for user in new_users:\n",
    "        if user in approved_users:\n",
    "            print(user,\"already in list\")\n",
    "        approved_users.append(user)\n",
    "add_users()\n",
    "print(approved_users)"
   ],
   "id": "ce5d0f09978bef7a",
   "outputs": [
    {
     "name": "stdout",
     "output_type": "stream",
     "text": [
      "bmoreno already in list\n",
      "['bmoreno', 'tshah', 'elarson', 'sgilmore', 'bmoreno']\n"
     ]
    }
   ],
   "execution_count": 4
  },
  {
   "metadata": {
    "ExecuteTime": {
     "end_time": "2024-11-01T03:23:39.598197Z",
     "start_time": "2024-11-01T03:23:39.588598Z"
    }
   },
   "cell_type": "code",
   "source": [
    "new_users = [\"sgilmore\", \"bmoreno\"]\n",
    "approved_users = [\"bmoreno\", \"tshah\", \"elarson\"]\n",
    "def add_users():\n",
    "    for user in new_users:\n",
    "        print(\"line 5 - inside for loop\")\n",
    "        if user in approved_users:\n",
    "            print(\"line 7 - inside if statement\")\n",
    "            print(user,\"already in list\")\n",
    "        print(\"line 9 - before .append method\")\n",
    "        approved_users.append(user)\n",
    "add_users()\n",
    "print(approved_users)"
   ],
   "id": "8fe77d968d2c8ae",
   "outputs": [
    {
     "name": "stdout",
     "output_type": "stream",
     "text": [
      "line 5 - inside for loop\n",
      "line 9 - before .append method\n",
      "line 5 - inside for loop\n",
      "line 7 - inside if statement\n",
      "bmoreno already in list\n",
      "line 9 - before .append method\n",
      "['bmoreno', 'tshah', 'elarson', 'sgilmore', 'bmoreno']\n"
     ]
    }
   ],
   "execution_count": 5
  },
  {
   "metadata": {},
   "cell_type": "code",
   "outputs": [],
   "execution_count": null,
   "source": "",
   "id": "468a14cef34943a1"
  }
 ],
 "metadata": {
  "kernelspec": {
   "display_name": "Python 3",
   "language": "python",
   "name": "python3"
  },
  "language_info": {
   "codemirror_mode": {
    "name": "ipython",
    "version": 2
   },
   "file_extension": ".py",
   "mimetype": "text/x-python",
   "name": "python",
   "nbconvert_exporter": "python",
   "pygments_lexer": "ipython2",
   "version": "2.7.6"
  }
 },
 "nbformat": 4,
 "nbformat_minor": 5
}
