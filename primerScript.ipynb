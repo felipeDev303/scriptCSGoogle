{
 "cells": [
  {
   "cell_type": "code",
   "id": "initial_id",
   "metadata": {
    "collapsed": true,
    "ExecuteTime": {
     "end_time": "2024-10-15T03:33:49.744862Z",
     "start_time": "2024-10-15T03:33:49.733005Z"
    }
   },
   "source": [
    "# Print Hello Python\n",
    "print(\"Helo Python\")"
   ],
   "outputs": [
    {
     "name": "stdout",
     "output_type": "stream",
     "text": [
      "Helo Python\n"
     ]
    }
   ],
   "execution_count": 1
  },
  {
   "metadata": {
    "ExecuteTime": {
     "end_time": "2024-10-15T12:55:08.477630Z",
     "start_time": "2024-10-15T12:55:08.462531Z"
    }
   },
   "cell_type": "code",
   "source": [
    "# Calcular números con Python \n",
    "print(5+2)"
   ],
   "id": "a0ca19bee5440fc4",
   "outputs": [
    {
     "name": "stdout",
     "output_type": "stream",
     "text": [
      "7\n"
     ]
    }
   ],
   "execution_count": 1
  },
  {
   "metadata": {
    "ExecuteTime": {
     "end_time": "2024-10-15T12:59:06.804697Z",
     "start_time": "2024-10-15T12:59:06.787109Z"
    }
   },
   "cell_type": "code",
   "source": [
    "# Determina valores booleanos\n",
    "print(3>2)\n",
    "print(5<2)"
   ],
   "id": "1550ebd7eeae7683",
   "outputs": [
    {
     "name": "stdout",
     "output_type": "stream",
     "text": [
      "True\n",
      "False\n"
     ]
    }
   ],
   "execution_count": 4
  },
  {
   "metadata": {
    "ExecuteTime": {
     "end_time": "2024-10-15T13:01:53.917807Z",
     "start_time": "2024-10-15T13:01:53.906831Z"
    }
   },
   "cell_type": "code",
   "source": [
    "# También podemos usar listas\n",
    "print([\"Felipe\"],[\"José\"],[\"Juan\"],[\"Pablo\"])"
   ],
   "id": "f55a5680da617a8",
   "outputs": [
    {
     "name": "stdout",
     "output_type": "stream",
     "text": [
      "['Felipe'] ['José'] ['Juan'] ['Pablo']\n"
     ]
    }
   ],
   "execution_count": 6
  },
  {
   "metadata": {
    "ExecuteTime": {
     "end_time": "2024-10-15T13:58:14.637098Z",
     "start_time": "2024-10-15T13:58:14.625800Z"
    }
   },
   "cell_type": "code",
   "source": [
    "# Call a variable\n",
    "device_id=\"523acpi\"\n",
    "print(device_id)   \n",
    "type(device_id)\n",
    "print(type(device_id))\n",
    "data_type=type(device_id)\n",
    "print(data_type)\n",
    "print(type(data_type))"
   ],
   "id": "76d240317aeb5ea7",
   "outputs": [
    {
     "name": "stdout",
     "output_type": "stream",
     "text": [
      "523acpi\n",
      "<class 'str'>\n",
      "<class 'str'>\n",
      "<class 'type'>\n"
     ]
    }
   ],
   "execution_count": 17
  },
  {
   "metadata": {
    "ExecuteTime": {
     "end_time": "2024-10-15T14:13:31.105329Z",
     "start_time": "2024-10-15T14:13:31.076784Z"
    }
   },
   "cell_type": "code",
   "source": [
    "# Reassing a variable\n",
    "device_id=\"32\"\n",
    "print(device_id)\n",
    "device_id=\"23\"\n",
    "print(device_id)"
   ],
   "id": "e2525ba9ff560376",
   "outputs": [
    {
     "name": "stdout",
     "output_type": "stream",
     "text": [
      "32\n",
      "23\n"
     ]
    }
   ],
   "execution_count": 18
  },
  {
   "metadata": {},
   "cell_type": "code",
   "outputs": [],
   "execution_count": null,
   "source": "",
   "id": "6c5ebf0021352497"
  }
 ],
 "metadata": {
  "kernelspec": {
   "display_name": "Python 3",
   "language": "python",
   "name": "python3"
  },
  "language_info": {
   "codemirror_mode": {
    "name": "ipython",
    "version": 2
   },
   "file_extension": ".py",
   "mimetype": "text/x-python",
   "name": "python",
   "nbconvert_exporter": "python",
   "pygments_lexer": "ipython2",
   "version": "2.7.6"
  }
 },
 "nbformat": 4,
 "nbformat_minor": 5
}
