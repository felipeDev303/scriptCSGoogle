{
 "cells": [
  {
   "cell_type": "code",
   "id": "initial_id",
   "metadata": {
    "collapsed": true,
    "ExecuteTime": {
     "end_time": "2024-10-29T14:07:07.303437Z",
     "start_time": "2024-10-29T14:07:07.279144Z"
    }
   },
   "source": [
    "# import re\n",
    "# re.findall()\n",
    "import re\n",
    "re.findall(\"ts\", \"tsnow, tshah, bmoreno\")"
   ],
   "outputs": [
    {
     "data": {
      "text/plain": [
       "['bm']"
      ]
     },
     "execution_count": 2,
     "metadata": {},
     "output_type": "execute_result"
    }
   ],
   "execution_count": 2
  },
  {
   "metadata": {
    "ExecuteTime": {
     "end_time": "2024-10-29T14:08:57.235477Z",
     "start_time": "2024-10-29T14:08:57.219975Z"
    }
   },
   "cell_type": "code",
   "source": [
    "# Símbolos para tipos de caracteres\n",
    "# \\w coincide con cualquier carácter alfanumérico\n",
    "import re\n",
    "re.findall('\\w', \"h32rb17\")"
   ],
   "id": "b824be2fafa244e6",
   "outputs": [
    {
     "name": "stderr",
     "output_type": "stream",
     "text": [
      "<>:4: SyntaxWarning: invalid escape sequence '\\w'\n",
      "<>:4: SyntaxWarning: invalid escape sequence '\\w'\n",
      "C:\\Users\\Usuario\\AppData\\Local\\Temp\\ipykernel_8656\\3989312023.py:4: SyntaxWarning: invalid escape sequence '\\w'\n",
      "  re.findall(\"\\w\", \"h32rb17\")\n"
     ]
    },
    {
     "data": {
      "text/plain": [
       "['h', '3', '2', 'r', 'b', '1', '7']"
      ]
     },
     "execution_count": 4,
     "metadata": {},
     "output_type": "execute_result"
    }
   ],
   "execution_count": 4
  },
  {
   "metadata": {
    "ExecuteTime": {
     "end_time": "2024-10-30T04:09:27.348637Z",
     "start_time": "2024-10-30T04:09:27.327167Z"
    }
   },
   "cell_type": "code",
   "source": [
    "# \\d coincide con todos los dígitos [0-9]\n",
    "import re\n",
    "re.findall('\\d', \"h32rb17\")"
   ],
   "id": "fc74787fc52c3cc1",
   "outputs": [
    {
     "data": {
      "text/plain": [
       "[]"
      ]
     },
     "execution_count": 5,
     "metadata": {},
     "output_type": "execute_result"
    }
   ],
   "execution_count": 5
  },
  {
   "metadata": {
    "ExecuteTime": {
     "end_time": "2024-10-30T04:38:30.009536Z",
     "start_time": "2024-10-30T04:38:29.998350Z"
    }
   },
   "cell_type": "code",
   "source": [
    "# El símbolo + representa una o más ocurrencias de un carácter específico\n",
    "import re\n",
    "re.findall('\\w+', \"h32rb17\")"
   ],
   "id": "bb4e61feee981972",
   "outputs": [
    {
     "name": "stderr",
     "output_type": "stream",
     "text": [
      "<>:3: SyntaxWarning: invalid escape sequence '\\w'\n",
      "<>:3: SyntaxWarning: invalid escape sequence '\\w'\n",
      "C:\\Users\\Usuario\\AppData\\Local\\Temp\\ipykernel_11488\\2827944272.py:3: SyntaxWarning: invalid escape sequence '\\w'\n",
      "  re.findall('h\\w+', \"h32rb17\")\n"
     ]
    },
    {
     "data": {
      "text/plain": [
       "['h32rb17']"
      ]
     },
     "execution_count": 7,
     "metadata": {},
     "output_type": "execute_result"
    }
   ],
   "execution_count": 7
  },
  {
   "metadata": {
    "ExecuteTime": {
     "end_time": "2024-10-29T14:18:56.120331Z",
     "start_time": "2024-10-29T14:18:56.097532Z"
    }
   },
   "cell_type": "code",
   "source": [
    "# El símbolo + representa una o más ocurrencias de un carácter específico\n",
    "import re\n",
    "re.findall('\\d+', \"h32rb17\")"
   ],
   "id": "5cd34841e51aaa03",
   "outputs": [
    {
     "name": "stderr",
     "output_type": "stream",
     "text": [
      "<>:3: SyntaxWarning: invalid escape sequence '\\d'\n",
      "<>:3: SyntaxWarning: invalid escape sequence '\\d'\n",
      "C:\\Users\\Usuario\\AppData\\Local\\Temp\\ipykernel_8656\\1961987465.py:3: SyntaxWarning: invalid escape sequence '\\d'\n",
      "  re.findall('\\d+', \"h32rb17\")\n"
     ]
    },
    {
     "data": {
      "text/plain": [
       "['32', '17']"
      ]
     },
     "execution_count": 8,
     "metadata": {},
     "output_type": "execute_result"
    }
   ],
   "execution_count": 8
  },
  {
   "metadata": {
    "ExecuteTime": {
     "end_time": "2024-10-29T14:25:31.310673Z",
     "start_time": "2024-10-29T14:25:31.286990Z"
    }
   },
   "cell_type": "code",
   "source": [
    "# El símbolo * representa cero, una o más ocurrencias de un carácter específico\n",
    "import re\n",
    "re.findall('\\d*', \"h32rb17\")"
   ],
   "id": "8c018e4048adc3d5",
   "outputs": [
    {
     "name": "stderr",
     "output_type": "stream",
     "text": [
      "<>:3: SyntaxWarning: invalid escape sequence '\\d'\n",
      "<>:3: SyntaxWarning: invalid escape sequence '\\d'\n",
      "C:\\Users\\Usuario\\AppData\\Local\\Temp\\ipykernel_8656\\4195230069.py:3: SyntaxWarning: invalid escape sequence '\\d'\n",
      "  re.findall('\\d*', \"h32rb17\")\n"
     ]
    },
    {
     "data": {
      "text/plain": [
       "['', '32', '', '', '17', '']"
      ]
     },
     "execution_count": 9,
     "metadata": {},
     "output_type": "execute_result"
    }
   ],
   "execution_count": 9
  },
  {
   "metadata": {
    "ExecuteTime": {
     "end_time": "2024-10-29T14:27:18.126086Z",
     "start_time": "2024-10-29T14:27:18.102496Z"
    }
   },
   "cell_type": "code",
   "source": [
    "# Si deseas indicar un número específico de repeticiones a permitir, puedes colocar este número entre llaves ({ }) después del carácter o símbolo\n",
    "import re\n",
    "re.findall('\\d{2}', \"h32rb17 k825t0m c2994eh\")"
   ],
   "id": "d310184b50ba7e3e",
   "outputs": [
    {
     "name": "stderr",
     "output_type": "stream",
     "text": [
      "<>:3: SyntaxWarning: invalid escape sequence '\\d'\n",
      "<>:3: SyntaxWarning: invalid escape sequence '\\d'\n",
      "C:\\Users\\Usuario\\AppData\\Local\\Temp\\ipykernel_8656\\2290095109.py:3: SyntaxWarning: invalid escape sequence '\\d'\n",
      "  re.findall('\\d{2}', \"h32rb17 k825t0m c2994eh\")\n"
     ]
    },
    {
     "data": {
      "text/plain": [
       "['32', '17', '82', '29', '94']"
      ]
     },
     "execution_count": 11,
     "metadata": {},
     "output_type": "execute_result"
    }
   ],
   "execution_count": 11
  },
  {
   "metadata": {
    "ExecuteTime": {
     "end_time": "2024-10-29T14:29:01.603681Z",
     "start_time": "2024-10-29T14:29:01.587807Z"
    }
   },
   "cell_type": "code",
   "source": [
    "# También puedes especificar un rango dentro de las llaves separando dos números con una coma. El primer número es el número mínimo de repeticiones, y el segundo, el número máximo de repeticiones.\n",
    "import re\n",
    "re.findall(\"\\d{1,3}\", \"h32rb17 k825t0m c2994eh\")"
   ],
   "id": "cc715a22a4aa6f0a",
   "outputs": [
    {
     "name": "stderr",
     "output_type": "stream",
     "text": [
      "<>:3: SyntaxWarning: invalid escape sequence '\\d'\n",
      "<>:3: SyntaxWarning: invalid escape sequence '\\d'\n",
      "C:\\Users\\Usuario\\AppData\\Local\\Temp\\ipykernel_8656\\1926001218.py:3: SyntaxWarning: invalid escape sequence '\\d'\n",
      "  re.findall(\"\\d{1,3}\", \"h32rb17 k825t0m c2994eh\")\n"
     ]
    },
    {
     "data": {
      "text/plain": [
       "['32', '17', '825', '0', '299', '4']"
      ]
     },
     "execution_count": 12,
     "metadata": {},
     "output_type": "execute_result"
    }
   ],
   "execution_count": 12
  },
  {
   "metadata": {
    "ExecuteTime": {
     "end_time": "2024-10-29T14:32:10.275702Z",
     "start_time": "2024-10-29T14:32:10.255345Z"
    }
   },
   "cell_type": "code",
   "source": [
    "# Cómo construir un patrón\n",
    "import re\n",
    "pattern = \"\\w+:\\s\\d+\"\n",
    "employee_logins_string = \"1001 bmoreno: 12 Marketing 1002 tshah: 7 Human Resources 1003 sgilmore: 5 Finance\"\n",
    "print(re.findall(pattern, employee_logins_string))"
   ],
   "id": "9c9b49fb69894ce9",
   "outputs": [
    {
     "name": "stdout",
     "output_type": "stream",
     "text": [
      "['bmoreno: 12', 'tshah: 7', 'sgilmore: 5']\n"
     ]
    },
    {
     "name": "stderr",
     "output_type": "stream",
     "text": [
      "<>:3: SyntaxWarning: invalid escape sequence '\\w'\n",
      "<>:3: SyntaxWarning: invalid escape sequence '\\w'\n",
      "C:\\Users\\Usuario\\AppData\\Local\\Temp\\ipykernel_8656\\162273544.py:3: SyntaxWarning: invalid escape sequence '\\w'\n",
      "  pattern = \"\\w+:\\s\\d+\"\n"
     ]
    }
   ],
   "execution_count": 13
  }
 ],
 "metadata": {
  "kernelspec": {
   "display_name": "Python 3",
   "language": "python",
   "name": "python3"
  },
  "language_info": {
   "codemirror_mode": {
    "name": "ipython",
    "version": 2
   },
   "file_extension": ".py",
   "mimetype": "text/x-python",
   "name": "python",
   "nbconvert_exporter": "python",
   "pygments_lexer": "ipython2",
   "version": "2.7.6"
  }
 },
 "nbformat": 4,
 "nbformat_minor": 5
}
