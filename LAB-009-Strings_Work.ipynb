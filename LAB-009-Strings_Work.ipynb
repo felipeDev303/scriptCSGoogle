{
 "cells": [
  {
   "cell_type": "code",
   "execution_count": null,
   "id": "initial_id",
   "metadata": {
    "collapsed": true
   },
   "outputs": [],
   "source": [
    "# Asigna a `employee_id` un número de cuatro dígitos como valor inicial\n",
    "\n",
    "employee_id = 4186\n",
    "\n",
    "# Muestra el tipo de datos de `employee_id`\n",
    "\n",
    "print(type(employee_id))\n",
    "\n",
    "# Reasigna a `employee_id` el mismo valor pero en forma de cadena\n",
    "\n",
    "employee_id = str(employee_id)\n",
    "\n",
    "# Muestra el tipo de datos de `employee_id` ahora\n",
    "\n",
    "print(type(employee_id))"
   ]
  },
  {
   "metadata": {},
   "cell_type": "code",
   "outputs": [],
   "execution_count": null,
   "source": [
    "# Asigna a `employee_id` un número de cuatro dígitos como valor inicial\n",
    "\n",
    "employee_id = 4186\n",
    "\n",
    "# Reasigna a `employee_id` el mismo valor pero en forma de cadena\n",
    "\n",
    "employee_id = str(employee_id)\n",
    "\n",
    "# Sentencia condicional que muestra un mensaje si la longitud de `employee_id` es inferior a cinco dígitos\n",
    "\n",
    "if(len(employee_id)<5):\n",
    "    print(\"Esta ID de empleado tiene menos de cinco dígitos. No cumple con los requisitos de longitud.\")\n",
    "    "
   ],
   "id": "b2e528e430468312"
  },
  {
   "metadata": {
    "ExecuteTime": {
     "end_time": "2024-10-28T14:30:04.478908Z",
     "start_time": "2024-10-28T14:30:02.040215Z"
    }
   },
   "cell_type": "code",
   "source": [
    "# Asigna a `employee_id` un número de cuatro dígitos como valor inicial\n",
    "\n",
    "employee_id = 4186\n",
    "\n",
    "# Reasigna a `employee_id` el mismo valor pero en forma de cadena\n",
    "\n",
    "employee_id = str(employee_id)\n",
    "\n",
    "# Muestra el `employee_id` en su formato actual\n",
    "\n",
    "print(employee_id)\n",
    "\n",
    "# Sentencia condicional que actualiza el `employee_id` si su longitud es inferior a 5 dígitos\n",
    "\n",
    "if(len(employee_id)<5):\n",
    "    employee_id = \"E\"+employee_id\n",
    "    \n",
    "# Muestra `employee_id` después de la actualización\n",
    "    \n",
    "print(employee_id)"
   ],
   "id": "b3e9a70c31336b97",
   "outputs": [
    {
     "ename": "KeyboardInterrupt",
     "evalue": "",
     "output_type": "error",
     "traceback": [
      "\u001B[1;31m---------------------------------------------------------------------------\u001B[0m",
      "\u001B[1;31mKeyboardInterrupt\u001B[0m                         Traceback (most recent call last)",
      "Cell \u001B[1;32mIn[1], line 10\u001B[0m\n\u001B[0;32m      8\u001B[0m remove_imported_pydev_package()\n\u001B[0;32m      9\u001B[0m \u001B[38;5;28;01mimport\u001B[39;00m \u001B[38;5;21;01mpydev_jupyter_utils\u001B[39;00m\n\u001B[1;32m---> 10\u001B[0m pydev_jupyter_utils\u001B[38;5;241m.\u001B[39mattach_to_debugger(\u001B[38;5;241m56814\u001B[39m)\n",
      "File \u001B[1;32mC:\\Program Files\\JetBrains\\PyCharm 2024.1.4\\plugins\\python\\helpers-pro\\jupyter_debug\\pydev_jupyter_utils.py:74\u001B[0m, in \u001B[0;36mattach_to_debugger\u001B[1;34m(debugger_port)\u001B[0m\n\u001B[0;32m     71\u001B[0m \u001B[38;5;28;01mdef\u001B[39;00m \u001B[38;5;21mattach_to_debugger\u001B[39m(debugger_port):\n\u001B[0;32m     72\u001B[0m     ipython_shell \u001B[38;5;241m=\u001B[39m get_ipython()\n\u001B[1;32m---> 74\u001B[0m     \u001B[38;5;28;01mimport\u001B[39;00m \u001B[38;5;21;01mpydevd\u001B[39;00m\n\u001B[0;32m     75\u001B[0m     \u001B[38;5;28;01mfrom\u001B[39;00m \u001B[38;5;21;01m_pydev_bundle\u001B[39;00m \u001B[38;5;28;01mimport\u001B[39;00m pydev_localhost\n\u001B[0;32m     77\u001B[0m     debugger \u001B[38;5;241m=\u001B[39m pydevd\u001B[38;5;241m.\u001B[39mPyDB()\n",
      "File \u001B[1;32mC:\\Program Files\\JetBrains\\PyCharm 2024.1.4\\plugins\\python\\helpers\\pydev\\pydevd.py:59\u001B[0m\n\u001B[0;32m     57\u001B[0m \u001B[38;5;28;01mfrom\u001B[39;00m \u001B[38;5;21;01m_pydevd_bundle\u001B[39;00m\u001B[38;5;21;01m.\u001B[39;00m\u001B[38;5;21;01mpydevd_frame_utils\u001B[39;00m \u001B[38;5;28;01mimport\u001B[39;00m add_exception_to_frame, remove_exception_from_frame\n\u001B[0;32m     58\u001B[0m \u001B[38;5;28;01mfrom\u001B[39;00m \u001B[38;5;21;01m_pydevd_bundle\u001B[39;00m\u001B[38;5;21;01m.\u001B[39;00m\u001B[38;5;21;01mpydevd_kill_all_pydevd_threads\u001B[39;00m \u001B[38;5;28;01mimport\u001B[39;00m kill_all_pydev_threads\n\u001B[1;32m---> 59\u001B[0m \u001B[38;5;28;01mfrom\u001B[39;00m \u001B[38;5;21;01m_pydevd_bundle\u001B[39;00m\u001B[38;5;21;01m.\u001B[39;00m\u001B[38;5;21;01mpydevd_trace_dispatch\u001B[39;00m \u001B[38;5;28;01mimport\u001B[39;00m (\n\u001B[0;32m     60\u001B[0m     trace_dispatch \u001B[38;5;28;01mas\u001B[39;00m _trace_dispatch, global_cache_skips, global_cache_frame_skips, show_tracing_warning)\n\u001B[0;32m     61\u001B[0m \u001B[38;5;28;01mfrom\u001B[39;00m \u001B[38;5;21;01m_pydevd_frame_eval\u001B[39;00m\u001B[38;5;21;01m.\u001B[39;00m\u001B[38;5;21;01mpydevd_frame_eval_main\u001B[39;00m \u001B[38;5;28;01mimport\u001B[39;00m (\n\u001B[0;32m     62\u001B[0m     frame_eval_func, dummy_trace_dispatch, show_frame_eval_warning)\n\u001B[0;32m     63\u001B[0m \u001B[38;5;28;01mfrom\u001B[39;00m \u001B[38;5;21;01m_pydevd_bundle\u001B[39;00m\u001B[38;5;21;01m.\u001B[39;00m\u001B[38;5;21;01mpydevd_pep_669_tracing_wrapper\u001B[39;00m \u001B[38;5;28;01mimport\u001B[39;00m enable_pep669_monitoring\n",
      "File \u001B[1;32mC:\\Program Files\\JetBrains\\PyCharm 2024.1.4\\plugins\\python\\helpers\\pydev\\_pydevd_bundle\\pydevd_trace_dispatch.py:79\u001B[0m\n\u001B[0;32m     76\u001B[0m \u001B[38;5;28;01melif\u001B[39;00m use_cython \u001B[38;5;129;01mis\u001B[39;00m \u001B[38;5;28;01mNone\u001B[39;00m:\n\u001B[0;32m     77\u001B[0m     \u001B[38;5;66;03m# Regular: use fallback if not found and give message to user\u001B[39;00m\n\u001B[0;32m     78\u001B[0m     \u001B[38;5;28;01mtry\u001B[39;00m:\n\u001B[1;32m---> 79\u001B[0m         \u001B[38;5;28;01mfrom\u001B[39;00m \u001B[38;5;21;01m_pydevd_bundle\u001B[39;00m\u001B[38;5;21;01m.\u001B[39;00m\u001B[38;5;21;01mpydevd_cython_wrapper\u001B[39;00m \u001B[38;5;28;01mimport\u001B[39;00m (\n\u001B[0;32m     80\u001B[0m             trace_dispatch \u001B[38;5;28;01mas\u001B[39;00m _trace_dispatch,\n\u001B[0;32m     81\u001B[0m             global_cache_skips,\n\u001B[0;32m     82\u001B[0m             global_cache_frame_skips,\n\u001B[0;32m     83\u001B[0m             fix_top_level_trace_and_get_trace_func,\n\u001B[0;32m     84\u001B[0m             set_additional_thread_info,\n\u001B[0;32m     85\u001B[0m             handle_breakpoint_condition,\n\u001B[0;32m     86\u001B[0m             handle_breakpoint_expression, DEBUG_START, DEBUG_START_PY3K,\n\u001B[0;32m     87\u001B[0m             should_stop_on_exception, handle_exception, manage_return_values,\n\u001B[0;32m     88\u001B[0m         )\n\u001B[0;32m     89\u001B[0m         \u001B[38;5;28;01mdef\u001B[39;00m \u001B[38;5;21mtrace_dispatch\u001B[39m(py_db, frame, event, arg):\n\u001B[0;32m     90\u001B[0m             \u001B[38;5;28;01mif\u001B[39;00m _trace_dispatch \u001B[38;5;129;01mis\u001B[39;00m \u001B[38;5;28;01mNone\u001B[39;00m:\n",
      "File \u001B[1;32mC:\\Program Files\\JetBrains\\PyCharm 2024.1.4\\plugins\\python\\helpers\\pydev\\_pydevd_bundle\\pydevd_cython_wrapper.py:4\u001B[0m\n\u001B[0;32m      1\u001B[0m \u001B[38;5;28;01mimport\u001B[39;00m \u001B[38;5;21;01msys\u001B[39;00m\n\u001B[0;32m      3\u001B[0m \u001B[38;5;66;03m# This version number is always available\u001B[39;00m\n\u001B[1;32m----> 4\u001B[0m \u001B[38;5;28;01mfrom\u001B[39;00m \u001B[38;5;21;01m_pydevd_bundle\u001B[39;00m\u001B[38;5;21;01m.\u001B[39;00m\u001B[38;5;21;01mpydevd_additional_thread_info_regular\u001B[39;00m \u001B[38;5;28;01mimport\u001B[39;00m version \u001B[38;5;28;01mas\u001B[39;00m regular_version\n\u001B[0;32m      6\u001B[0m \u001B[38;5;28;01mtry\u001B[39;00m:\n\u001B[0;32m      7\u001B[0m     \u001B[38;5;28;01mtry\u001B[39;00m:\n",
      "File \u001B[1;32mC:\\Program Files\\JetBrains\\PyCharm 2024.1.4\\plugins\\python\\helpers\\pydev\\_pydevd_bundle\\pydevd_additional_thread_info_regular.py:7\u001B[0m\n\u001B[0;32m      3\u001B[0m \u001B[38;5;28;01mfrom\u001B[39;00m \u001B[38;5;21;01m_pydev_bundle\u001B[39;00m \u001B[38;5;28;01mimport\u001B[39;00m pydev_log\n\u001B[0;32m      4\u001B[0m \u001B[38;5;66;03m# IFDEF CYTHON\u001B[39;00m\n\u001B[0;32m      5\u001B[0m \u001B[38;5;66;03m# pydev_log.debug(\"Using Cython speedups\")\u001B[39;00m\n\u001B[0;32m      6\u001B[0m \u001B[38;5;66;03m# ELSE\u001B[39;00m\n\u001B[1;32m----> 7\u001B[0m \u001B[38;5;28;01mfrom\u001B[39;00m \u001B[38;5;21;01m_pydevd_bundle\u001B[39;00m\u001B[38;5;21;01m.\u001B[39;00m\u001B[38;5;21;01mpydevd_frame\u001B[39;00m \u001B[38;5;28;01mimport\u001B[39;00m PyDBFrame\n\u001B[0;32m      8\u001B[0m \u001B[38;5;66;03m# ENDIF\u001B[39;00m\n\u001B[0;32m     10\u001B[0m version \u001B[38;5;241m=\u001B[39m \u001B[38;5;241m49\u001B[39m\n",
      "File \u001B[1;32m<frozen importlib._bootstrap>:1360\u001B[0m, in \u001B[0;36m_find_and_load\u001B[1;34m(name, import_)\u001B[0m\n",
      "File \u001B[1;32m<frozen importlib._bootstrap>:1331\u001B[0m, in \u001B[0;36m_find_and_load_unlocked\u001B[1;34m(name, import_)\u001B[0m\n",
      "File \u001B[1;32m<frozen importlib._bootstrap>:935\u001B[0m, in \u001B[0;36m_load_unlocked\u001B[1;34m(spec)\u001B[0m\n",
      "File \u001B[1;32m<frozen importlib._bootstrap_external>:991\u001B[0m, in \u001B[0;36mexec_module\u001B[1;34m(self, module)\u001B[0m\n",
      "File \u001B[1;32m<frozen importlib._bootstrap_external>:1130\u001B[0m, in \u001B[0;36mget_code\u001B[1;34m(self, fullname)\u001B[0m\n",
      "File \u001B[1;32m<frozen importlib._bootstrap>:491\u001B[0m, in \u001B[0;36m_verbose_message\u001B[1;34m(message, verbosity, *args)\u001B[0m\n",
      "\u001B[1;31mKeyboardInterrupt\u001B[0m: "
     ]
    }
   ],
   "execution_count": null
  },
  {
   "metadata": {
    "ExecuteTime": {
     "end_time": "2024-10-28T14:31:53.519839Z",
     "start_time": "2024-10-28T14:31:53.509687Z"
    }
   },
   "cell_type": "code",
   "source": [
    "# Asigna a `device_id` una cadena que contiene caracteres alfanuméricos\n",
    "\n",
    "device_id = \"r262c36\"\n",
    "\n",
    "# Extrae el cuarto carácter de `device_id` y muéstralo\n",
    "\n",
    "print(device_id[3])"
   ],
   "id": "7b4e501128877cac",
   "outputs": [
    {
     "name": "stdout",
     "output_type": "stream",
     "text": [
      "2\n"
     ]
    }
   ],
   "execution_count": 1
  },
  {
   "metadata": {
    "ExecuteTime": {
     "end_time": "2024-10-28T23:31:35.689660Z",
     "start_time": "2024-10-28T23:31:35.664855Z"
    }
   },
   "cell_type": "code",
   "source": [
    "# Asigna a `device_id` una cadena que contiene caracteres alfanuméricos\n",
    "\n",
    "device_id = \"r262c36\"\n",
    "\n",
    "# Extrae del primer al tercer carácter de `device_id` y muestra el resultado\n",
    "\n",
    "print(device_id[0:3])"
   ],
   "id": "f73328400c5ac409",
   "outputs": [
    {
     "name": "stdout",
     "output_type": "stream",
     "text": [
      "r26\n"
     ]
    }
   ],
   "execution_count": 1
  },
  {
   "metadata": {
    "ExecuteTime": {
     "end_time": "2024-10-28T23:33:05.736628Z",
     "start_time": "2024-10-28T23:33:05.719807Z"
    }
   },
   "cell_type": "code",
   "source": [
    "# Asigna a `url` una URL específica\n",
    "\n",
    "url = \"https://exampleURL1.com\"\n",
    "\n",
    "# Extrae el protocolo de `url` junto con la sintaxis que lo sigue, muestra el resultado\n",
    "\n",
    "print(url[0:8])"
   ],
   "id": "e3e22dd71f7f199b",
   "outputs": [
    {
     "name": "stdout",
     "output_type": "stream",
     "text": [
      "https://\n"
     ]
    }
   ],
   "execution_count": 2
  },
  {
   "metadata": {
    "ExecuteTime": {
     "end_time": "2024-10-28T23:35:43.751695Z",
     "start_time": "2024-10-28T23:35:43.731412Z"
    }
   },
   "cell_type": "code",
   "source": [
    "# Asigna a `url` una URL específica\n",
    "\n",
    "url = \"https://exampleURL1.com\"\n",
    "\n",
    "# Muestra la indexación en que se encuentra la extensión de dominio \".com\" en `url`\n",
    "\n",
    "print(url[19:23])"
   ],
   "id": "bdae37fb4285420f",
   "outputs": [
    {
     "name": "stdout",
     "output_type": "stream",
     "text": [
      ".com\n"
     ]
    }
   ],
   "execution_count": 3
  },
  {
   "metadata": {
    "ExecuteTime": {
     "end_time": "2024-10-28T23:45:07.149053Z",
     "start_time": "2024-10-28T23:45:07.139097Z"
    }
   },
   "cell_type": "code",
   "source": [
    "# Asigna a `url` una URL específica\n",
    "\n",
    "url = \"https://exampleURL1.com\"\n",
    "\n",
    "# Asigna a `ind` el resultado de aplicar `.index()` a `url` para extraer la indexación inicial de \".com\" en `url`\n",
    "\n",
    "ind = url.index(\".com\")\n",
    "print(ind)"
   ],
   "id": "f6819ca6ce164765",
   "outputs": [
    {
     "name": "stdout",
     "output_type": "stream",
     "text": [
      "19\n"
     ]
    }
   ],
   "execution_count": 4
  },
  {
   "metadata": {},
   "cell_type": "code",
   "outputs": [],
   "execution_count": null,
   "source": [
    "# Asigna a `url` una URL específica\n",
    "\n",
    "url = \"https://exampleURL1.com\"\n",
    "\n",
    "# Asigna a `ind` el resultado de aplicar `.index()` a `url` para extraer la indexación inicial de \".com\" en `url`\n",
    "\n",
    "ind = url.index(\".com\")\n",
    "\n",
    "# Extrae la extensión de dominio en `url` y muéstrala\n",
    "\n",
    "print(url[ind:ind+4])"
   ],
   "id": "a9cc811300cb21a9"
  },
  {
   "metadata": {
    "ExecuteTime": {
     "end_time": "2024-10-28T23:56:25.750078Z",
     "start_time": "2024-10-28T23:56:25.739102Z"
    }
   },
   "cell_type": "code",
   "source": [
    "# Asigna a `url` una URL específica\n",
    "\n",
    "url = \"https://exampleURL1.com\"\n",
    "\n",
    "# Asigna a `ind` el resultado de aplicar `.index()` a `url` para extraer la indexación inicial de \".com\" en `url`\n",
    "\n",
    "ind = url.index(\".com\")\n",
    "\n",
    "# Extrae el nombre del sitio web en `url` y muéstralo\n",
    "\n",
    "print(url[ind-11:ind])\n",
    "print(url[8:ind])"
   ],
   "id": "206fc32a79d09c0e",
   "outputs": [
    {
     "name": "stdout",
     "output_type": "stream",
     "text": [
      "exampleURL1\n",
      "exampleURL1\n"
     ]
    }
   ],
   "execution_count": 6
  },
  {
   "metadata": {},
   "cell_type": "code",
   "outputs": [],
   "execution_count": null,
   "source": "",
   "id": "db0aba487d3b2fa7"
  }
 ],
 "metadata": {
  "kernelspec": {
   "display_name": "Python 3",
   "language": "python",
   "name": "python3"
  },
  "language_info": {
   "codemirror_mode": {
    "name": "ipython",
    "version": 2
   },
   "file_extension": ".py",
   "mimetype": "text/x-python",
   "name": "python",
   "nbconvert_exporter": "python",
   "pygments_lexer": "ipython2",
   "version": "2.7.6"
  }
 },
 "nbformat": 4,
 "nbformat_minor": 5
}
