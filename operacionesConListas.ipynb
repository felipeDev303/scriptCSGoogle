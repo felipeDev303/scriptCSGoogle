{
 "cells": [
  {
   "cell_type": "code",
   "id": "initial_id",
   "metadata": {
    "collapsed": true,
    "ExecuteTime": {
     "end_time": "2024-10-29T05:09:21.728095Z",
     "start_time": "2024-10-29T05:09:21.715036Z"
    }
   },
   "source": [
    "# Notación entre corchetes\n",
    "username_list = [\"elarson\", \"fgarcia\", \"tshah\", \"sgilmore\"]\n",
    "print(username_list[2])\n",
    "\n",
    "print([\"elarson\", \"fgarcia\", \"tshah\", \"sgilmore\"][2])"
   ],
   "outputs": [
    {
     "name": "stdout",
     "output_type": "stream",
     "text": [
      "tshah\n",
      "tshah\n"
     ]
    }
   ],
   "execution_count": 3
  },
  {
   "metadata": {
    "ExecuteTime": {
     "end_time": "2024-10-29T05:09:53.743980Z",
     "start_time": "2024-10-29T05:09:53.724529Z"
    }
   },
   "cell_type": "code",
   "source": [
    "# Cómo extraer una porción de la lista\n",
    "username_list = [\"elarson\", \"fgarcia\", \"tshah\", \"sgilmore\"]\n",
    "print(username_list[0:2])"
   ],
   "id": "aebc8983993bd934",
   "outputs": [
    {
     "name": "stdout",
     "output_type": "stream",
     "text": [
      "['elarson', 'fgarcia']\n"
     ]
    }
   ],
   "execution_count": 4
  },
  {
   "metadata": {
    "ExecuteTime": {
     "end_time": "2024-10-29T05:10:19.335038Z",
     "start_time": "2024-10-29T05:10:19.311828Z"
    }
   },
   "cell_type": "code",
   "source": [
    "# Cómo cambiar los elementos de una lista\n",
    "username_list = [\"elarson\", \"fgarcia\", \"tshah\", \"sgilmore\"]\n",
    "print(\"Before changing an element:\", username_list)\n",
    "username_list[1] = \"bmoreno\"\n",
    "print(\"After changing an element:\", username_list)"
   ],
   "id": "5feb1e9c11c832c7",
   "outputs": [
    {
     "name": "stdout",
     "output_type": "stream",
     "text": [
      "Before changing an element: ['elarson', 'fgarcia', 'tshah', 'sgilmore']\n",
      "After changing an element: ['elarson', 'bmoreno', 'tshah', 'sgilmore']\n"
     ]
    }
   ],
   "execution_count": 5
  },
  {
   "metadata": {
    "ExecuteTime": {
     "end_time": "2024-10-29T05:10:52.681347Z",
     "start_time": "2024-10-29T05:10:52.659878Z"
    }
   },
   "cell_type": "code",
   "source": [
    "# Métodos de una lista: .insert()\n",
    "username_list = [\"elarson\", \"bmoreno\", \"tshah\", \"sgilmore\"]\n",
    "print(\"Before inserting an element:\", username_list)\n",
    "username_list.insert(2,\"wjaffrey\")\n",
    "print(\"After inserting an element:\", username_list)"
   ],
   "id": "a1b89a4352932c07",
   "outputs": [
    {
     "name": "stdout",
     "output_type": "stream",
     "text": [
      "Before inserting an element: ['elarson', 'bmoreno', 'tshah', 'sgilmore']\n",
      "After inserting an element: ['elarson', 'bmoreno', 'wjaffrey', 'tshah', 'sgilmore']\n"
     ]
    }
   ],
   "execution_count": 6
  },
  {
   "metadata": {
    "ExecuteTime": {
     "end_time": "2024-10-29T05:12:25.550433Z",
     "start_time": "2024-10-29T05:12:25.529519Z"
    }
   },
   "cell_type": "code",
   "source": [
    "# Métodos de una lista: .remove()\n",
    "username_list = [\"elarson\", \"bmoreno\", \"wjaffrey\", \"tshah\", \"sgilmore\"]\n",
    "print(\"Before removing an element:\", username_list)\n",
    "username_list.remove(\"elarson\")\n",
    "print(\"After removing an element:\", username_list)"
   ],
   "id": "2f42bc37a4eafb00",
   "outputs": [
    {
     "name": "stdout",
     "output_type": "stream",
     "text": [
      "Before removing an element: ['elarson', 'bmoreno', 'wjaffrey', 'tshah', 'sgilmore']\n",
      "After removing an element: ['bmoreno', 'wjaffrey', 'tshah', 'sgilmore']\n"
     ]
    }
   ],
   "execution_count": 7
  },
  {
   "metadata": {
    "ExecuteTime": {
     "end_time": "2024-10-29T05:12:29.296471Z",
     "start_time": "2024-10-29T05:12:29.275313Z"
    }
   },
   "cell_type": "code",
   "source": [
    "# Métodos de una lista: .append()\n",
    "username_list = [\"bmoreno\", \"wjaffrey\", \"tshah\", \"sgilmore\"]\n",
    "print(\"Before appending an element:\", username_list)\n",
    "username_list.append(\"btang\")\n",
    "print(\"After appending an element:\", username_list)"
   ],
   "id": "cc9fb455ec6ea3d2",
   "outputs": [
    {
     "name": "stdout",
     "output_type": "stream",
     "text": [
      "Before appending an element: ['bmoreno', 'wjaffrey', 'tshah', 'sgilmore']\n",
      "After appending an element: ['bmoreno', 'wjaffrey', 'tshah', 'sgilmore', 'btang']\n"
     ]
    }
   ],
   "execution_count": 8
  },
  {
   "metadata": {
    "ExecuteTime": {
     "end_time": "2024-10-29T05:12:32.432184Z",
     "start_time": "2024-10-29T05:12:32.416729Z"
    }
   },
   "cell_type": "code",
   "source": [
    "# Métodos de una lista: .append()\n",
    "numbers_list = []\n",
    "print(\"Before appending a sequence of numbers:\", numbers_list)\n",
    "for i in range(10):\n",
    "    numbers_list.append(i)\n",
    "print(\"After appending a sequence of numbers:\", numbers_list)"
   ],
   "id": "ae53e40654135b1b",
   "outputs": [
    {
     "name": "stdout",
     "output_type": "stream",
     "text": [
      "Before appending a sequence of numbers: []\n",
      "After appending a sequence of numbers: [0, 1, 2, 3, 4, 5, 6, 7, 8, 9]\n"
     ]
    }
   ],
   "execution_count": 9
  },
  {
   "metadata": {
    "ExecuteTime": {
     "end_time": "2024-10-29T05:13:01.042262Z",
     "start_time": "2024-10-29T05:13:01.023637Z"
    }
   },
   "cell_type": "code",
   "source": [
    "# Métodos de una lista: .index()\n",
    "username_list = [\"bmoreno\", \"wjaffrey\", \"tshah\", \"sgilmore\", \"btang\"]\n",
    "username_index = username_list.index(\"tshah\")\n",
    "print(username_index)"
   ],
   "id": "30c00e9f51760779",
   "outputs": [
    {
     "name": "stdout",
     "output_type": "stream",
     "text": [
      "2\n"
     ]
    }
   ],
   "execution_count": 10
  },
  {
   "metadata": {},
   "cell_type": "code",
   "outputs": [],
   "execution_count": null,
   "source": "",
   "id": "2990ea76d5a20973"
  }
 ],
 "metadata": {
  "kernelspec": {
   "display_name": "Python 3",
   "language": "python",
   "name": "python3"
  },
  "language_info": {
   "codemirror_mode": {
    "name": "ipython",
    "version": 2
   },
   "file_extension": ".py",
   "mimetype": "text/x-python",
   "name": "python",
   "nbconvert_exporter": "python",
   "pygments_lexer": "ipython2",
   "version": "2.7.6"
  }
 },
 "nbformat": 4,
 "nbformat_minor": 5
}
